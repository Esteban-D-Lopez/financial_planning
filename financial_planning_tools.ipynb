{
 "cells": [
  {
   "cell_type": "markdown",
   "metadata": {},
   "source": [
    "# Financial Planning with APIs and Simulations\n",
    "\n",
    "In this Challenge, you’ll create two financial analysis tools by using a single Jupyter notebook:\n",
    "\n",
    "Part 1: A financial planner for emergencies. The members will be able to use this tool to visualize their current savings. The members can then determine if they have enough reserves for an emergency fund.\n",
    "\n",
    "Part 2: A financial planner for retirement. This tool will forecast the performance of their retirement portfolio in 30 years. To do this, the tool will make an Alpaca API call via the Alpaca SDK to get historical price data for use in Monte Carlo simulations.\n",
    "\n",
    "You’ll use the information from the Monte Carlo simulation to answer questions about the portfolio in your Jupyter notebook.\n",
    "\n"
   ]
  },
  {
   "cell_type": "code",
   "execution_count": 1,
   "metadata": {},
   "outputs": [],
   "source": [
    "# Import the required libraries and dependencies\n",
    "import os\n",
    "import requests\n",
    "import json\n",
    "import pandas as pd\n",
    "from dotenv import load_dotenv\n",
    "import alpaca_trade_api as tradeapi\n",
    "from MCForecastTools import MCSimulation\n",
    "\n",
    "%matplotlib inline"
   ]
  },
  {
   "cell_type": "code",
   "execution_count": 2,
   "metadata": {},
   "outputs": [
    {
     "data": {
      "text/plain": [
       "True"
      ]
     },
     "execution_count": 2,
     "metadata": {},
     "output_type": "execute_result"
    }
   ],
   "source": [
    "# Load the environment variables from the .env file\n",
    "#by calling the load_dotenv function\n",
    "load_dotenv()"
   ]
  },
  {
   "cell_type": "markdown",
   "metadata": {},
   "source": [
    "## Part 1: Create a Financial Planner for Emergencies"
   ]
  },
  {
   "cell_type": "markdown",
   "metadata": {},
   "source": [
    "### Evaluate the Cryptocurrency Wallet by Using the Requests Library\n",
    "\n",
    "In this section, you’ll determine the current value of a member’s cryptocurrency wallet. You’ll collect the current prices for the Bitcoin and Ethereum cryptocurrencies by using the Python Requests library. For the prototype, you’ll assume that the member holds the 1.2 Bitcoins (BTC) and 5.3 Ethereum coins (ETH). To do all this, complete the following steps:\n",
    "\n",
    "1. Create a variable named `monthly_income`, and set its value to `12000`.\n",
    "\n",
    "2. Use the Requests library to get the current price (in US dollars) of Bitcoin (BTC) and Ethereum (ETH) by using the API endpoints that the starter code supplies.\n",
    "\n",
    "3. Navigate the JSON response object to access the current price of each coin, and store each in a variable.\n",
    "\n",
    "    > **Hint** Note the specific identifier for each cryptocurrency in the API JSON response. The Bitcoin identifier is `1`, and the Ethereum identifier is `1027`.\n",
    "\n",
    "4. Calculate the value, in US dollars, of the current amount of each cryptocurrency and of the entire cryptocurrency wallet.\n",
    "\n"
   ]
  },
  {
   "cell_type": "code",
   "execution_count": 3,
   "metadata": {},
   "outputs": [],
   "source": [
    "# The current number of coins for each cryptocurrency asset held in the portfolio.\n",
    "btc_coins = 1.2\n",
    "eth_coins = 5.3"
   ]
  },
  {
   "cell_type": "markdown",
   "metadata": {},
   "source": [
    "#### Step 1: Create a variable named `monthly_income`, and set its value to `12000`."
   ]
  },
  {
   "cell_type": "code",
   "execution_count": 4,
   "metadata": {},
   "outputs": [],
   "source": [
    "# The monthly amount for the member's household income\n",
    "monthly_income = 12000\n",
    "\n"
   ]
  },
  {
   "cell_type": "markdown",
   "metadata": {},
   "source": [
    "#### Review the endpoint URLs for the API calls to Free Crypto API in order to get the current pricing information for both BTC and ETH."
   ]
  },
  {
   "cell_type": "code",
   "execution_count": 5,
   "metadata": {},
   "outputs": [],
   "source": [
    "# The Free Crypto API Call endpoint URLs for the held cryptocurrency assets\n",
    "btc_url = \"https://api.alternative.me/v2/ticker/Bitcoin/?convert=USD\"\n",
    "eth_url = \"https://api.alternative.me/v2/ticker/Ethereum/?convert=USD\""
   ]
  },
  {
   "cell_type": "markdown",
   "metadata": {},
   "source": [
    "#### Step 2. Use the Requests library to get the current price (in US dollars) of Bitcoin (BTC) and Ethereum (ETH) by using the API endpoints that the starter code supplied."
   ]
  },
  {
   "cell_type": "code",
   "execution_count": 6,
   "metadata": {},
   "outputs": [
    {
     "name": "stdout",
     "output_type": "stream",
     "text": [
      "{\n",
      "    \"data\": {\n",
      "        \"1\": {\n",
      "            \"circulating_supply\": 19181256,\n",
      "            \"id\": 1,\n",
      "            \"last_updated\": 1665966864,\n",
      "            \"max_supply\": 21000000,\n",
      "            \"name\": \"Bitcoin\",\n",
      "            \"quotes\": {\n",
      "                \"USD\": {\n",
      "                    \"market_cap\": 369744245680,\n",
      "                    \"percent_change_1h\": 0.150061741376405,\n",
      "                    \"percent_change_24h\": 0.910896003176292,\n",
      "                    \"percent_change_7d\": -0.8834655034079,\n",
      "                    \"percentage_change_1h\": 0.150061741376405,\n",
      "                    \"percentage_change_24h\": 0.910896003176292,\n",
      "                    \"percentage_change_7d\": -0.8834655034079,\n",
      "                    \"price\": 19276.33,\n",
      "                    \"volume_24h\": 15779806251\n",
      "                }\n",
      "            },\n",
      "            \"rank\": 1,\n",
      "            \"symbol\": \"BTC\",\n",
      "            \"total_supply\": 19181256,\n",
      "            \"website_slug\": \"bitcoin\"\n",
      "        }\n",
      "    },\n",
      "    \"metadata\": {\n",
      "        \"error\": null,\n",
      "        \"num_cryptocurrencies\": 3116,\n",
      "        \"timestamp\": 1665966864\n",
      "    }\n",
      "}\n"
     ]
    }
   ],
   "source": [
    "# Using the Python requests library, make an API call to access the current price of BTC\n",
    "btc_response = requests.get(btc_url).json()\n",
    "\n",
    "# Use the json.dumps function to review the response data from the API call\n",
    "# Use the indent and sort_keys parameters to make the response object readable\n",
    "print(json.dumps(btc_response, indent=4, sort_keys=True))\n"
   ]
  },
  {
   "cell_type": "code",
   "execution_count": 7,
   "metadata": {},
   "outputs": [
    {
     "name": "stdout",
     "output_type": "stream",
     "text": [
      "{\n",
      "    \"data\": {\n",
      "        \"1027\": {\n",
      "            \"circulating_supply\": 120527410,\n",
      "            \"id\": 1027,\n",
      "            \"last_updated\": 1665966831,\n",
      "            \"max_supply\": 120527410,\n",
      "            \"name\": \"Ethereum\",\n",
      "            \"quotes\": {\n",
      "                \"USD\": {\n",
      "                    \"market_cap\": 157196322661,\n",
      "                    \"percent_change_1h\": 0.0383945198242753,\n",
      "                    \"percent_change_24h\": 2.10610295613223,\n",
      "                    \"percent_change_7d\": -1.35569787010032,\n",
      "                    \"percentage_change_1h\": 0.0383945198242753,\n",
      "                    \"percentage_change_24h\": 2.10610295613223,\n",
      "                    \"percentage_change_7d\": -1.35569787010032,\n",
      "                    \"price\": 1304.34,\n",
      "                    \"volume_24h\": 6339534215\n",
      "                }\n",
      "            },\n",
      "            \"rank\": 2,\n",
      "            \"symbol\": \"ETH\",\n",
      "            \"total_supply\": 120527410,\n",
      "            \"website_slug\": \"ethereum\"\n",
      "        }\n",
      "    },\n",
      "    \"metadata\": {\n",
      "        \"error\": null,\n",
      "        \"num_cryptocurrencies\": 3116,\n",
      "        \"timestamp\": 1665966831\n",
      "    }\n",
      "}\n"
     ]
    }
   ],
   "source": [
    "# Using the Python requests library, make an API call to access the current price ETH\n",
    "eth_response = requests.get(eth_url).json()\n",
    "\n",
    "# Use the json.dumps function to review the response data from the API call\n",
    "# Use the indent and sort_keys parameters to make the response object readable\n",
    "print(json.dumps(eth_response, indent=4, sort_keys=True))\n"
   ]
  },
  {
   "cell_type": "markdown",
   "metadata": {},
   "source": [
    "#### Step 3: Navigate the JSON response object to access the current price of each coin, and store each in a variable."
   ]
  },
  {
   "cell_type": "code",
   "execution_count": 8,
   "metadata": {},
   "outputs": [
    {
     "name": "stdout",
     "output_type": "stream",
     "text": [
      "The price of BTC is 19276.33\n"
     ]
    }
   ],
   "source": [
    "# Navigate the BTC response object to access the current price of BTC\n",
    "btc_price = btc_response['data']['1']['quotes']['USD']['price']\n",
    "\n",
    "# Print the current price of BTC\n",
    "print(f\"The price of BTC is {btc_price}\")\n"
   ]
  },
  {
   "cell_type": "code",
   "execution_count": 9,
   "metadata": {
    "tags": []
   },
   "outputs": [
    {
     "name": "stdout",
     "output_type": "stream",
     "text": [
      "The price of ETH is 1304.34\n"
     ]
    }
   ],
   "source": [
    "# Navigate the BTC response object to access the current price of ETH\n",
    "eth_price = eth_response['data']['1027']['quotes']['USD']['price']\n",
    "\n",
    "# Print the current price of ETH\n",
    "print(f\"The price of ETH is {eth_price}\")\n"
   ]
  },
  {
   "cell_type": "markdown",
   "metadata": {},
   "source": [
    "### Step 4: Calculate the value, in US dollars, of the current amount of each cryptocurrency and of the entire cryptocurrency wallet."
   ]
  },
  {
   "cell_type": "code",
   "execution_count": 10,
   "metadata": {},
   "outputs": [
    {
     "name": "stdout",
     "output_type": "stream",
     "text": [
      "The value of BTC in your wallet is 23131.596\n"
     ]
    }
   ],
   "source": [
    "# Compute the current value of the BTC holding \n",
    "btc_value = btc_coins * btc_price\n",
    "\n",
    "# Print current value of your holding in BTC\n",
    "print(f\"The value of BTC in your wallet is {btc_value}\")\n"
   ]
  },
  {
   "cell_type": "code",
   "execution_count": 11,
   "metadata": {},
   "outputs": [
    {
     "name": "stdout",
     "output_type": "stream",
     "text": [
      "The value of ETH in your wallet is 6913.0019999999995\n"
     ]
    }
   ],
   "source": [
    "# Compute the current value of the ETH holding \n",
    "eth_value = eth_coins * eth_price\n",
    "\n",
    "# Print current value of your holding in ETH\n",
    "print(f\"The value of ETH in your wallet is {eth_value}\")\n"
   ]
  },
  {
   "cell_type": "code",
   "execution_count": 12,
   "metadata": {},
   "outputs": [
    {
     "name": "stdout",
     "output_type": "stream",
     "text": [
      "The total value of your wallet is 30044.598\n"
     ]
    }
   ],
   "source": [
    "# Compute the total value of the cryptocurrency wallet\n",
    "# Add the value of the BTC holding to the value of the ETH holding\n",
    "total_crypto_wallet = eth_value + btc_value\n",
    "\n",
    "# Print current cryptocurrency wallet balance\n",
    "print(f\"The total value of your wallet is {total_crypto_wallet}\")\n"
   ]
  },
  {
   "cell_type": "markdown",
   "metadata": {},
   "source": [
    "### Evaluate the Stock and Bond Holdings by Using the Alpaca SDK\n",
    "\n",
    "In this section, you’ll determine the current value of a member’s stock and bond holdings. You’ll make an API call to Alpaca via the Alpaca SDK to get the current closing prices of the SPDR S&P 500 ETF Trust (ticker: SPY) and of the iShares Core US Aggregate Bond ETF (ticker: AGG). For the prototype, assume that the member holds 110 shares of SPY, which represents the stock portion of their portfolio, and 200 shares of AGG, which represents the bond portion. To do all this, complete the following steps:\n",
    "\n",
    "1. In the `Starter_Code` folder, create an environment file (`.env`) to store the values of your Alpaca API key and Alpaca secret key.\n",
    "\n",
    "2. Set the variables for the Alpaca API and secret keys. Using the Alpaca SDK, create the Alpaca `tradeapi.REST` object. In this object, include the parameters for the Alpaca API key, the secret key, and the version number.\n",
    "\n",
    "3. Set the following parameters for the Alpaca API call:\n",
    "\n",
    "    - `tickers`: Use the tickers for the member’s stock and bond holdings.\n",
    "\n",
    "    - `timeframe`: Use a time frame of one day.\n",
    "\n",
    "    - `start_date` and `end_date`: Use the same date for these parameters, and format them with the date of the previous weekday (or `2020-08-07`). This is because you want the one closing price for the most-recent trading day.\n",
    "\n",
    "4. Get the current closing prices for `SPY` and `AGG` by using the Alpaca `get_bars` function. Format the response as a Pandas DataFrame by including the `df` property at the end of the `get_bars` function.\n",
    "\n",
    "5. Navigating the Alpaca response DataFrame, select the `SPY` and `AGG` closing prices, and store them as variables.\n",
    "\n",
    "6. Calculate the value, in US dollars, of the current amount of shares in each of the stock and bond portions of the portfolio, and print the results.\n"
   ]
  },
  {
   "cell_type": "markdown",
   "metadata": {},
   "source": [
    "#### Review the total number of shares held in both (SPY) and (AGG)."
   ]
  },
  {
   "cell_type": "code",
   "execution_count": 13,
   "metadata": {},
   "outputs": [],
   "source": [
    "# Current amount of shares held in both the stock (SPY) and bond (AGG) portion of the portfolio.\n",
    "spy_shares = 110\n",
    "agg_shares = 200\n"
   ]
  },
  {
   "cell_type": "markdown",
   "metadata": {},
   "source": [
    "#### Step 1: In the `Starter_Code` folder, create an environment file (`.env`) to store the values of your Alpaca API key and Alpaca secret key."
   ]
  },
  {
   "cell_type": "markdown",
   "metadata": {},
   "source": [
    "#### Step 2: Set the variables for the Alpaca API and secret keys. Using the Alpaca SDK, create the Alpaca `tradeapi.REST` object. In this object, include the parameters for the Alpaca API key, the secret key, and the version number."
   ]
  },
  {
   "cell_type": "code",
   "execution_count": 14,
   "metadata": {},
   "outputs": [
    {
     "data": {
      "text/plain": [
       "str"
      ]
     },
     "metadata": {},
     "output_type": "display_data"
    },
    {
     "data": {
      "text/plain": [
       "str"
      ]
     },
     "metadata": {},
     "output_type": "display_data"
    }
   ],
   "source": [
    "# Set the variables for the Alpaca API and secret keys\n",
    "alpaca_api_key = os.getenv(\"ALPACA_API_KEY\")\n",
    "alpaca_secret_key = os.getenv(\"ALPACA_SECRET_KEY\")\n",
    "display(type(alpaca_api_key))\n",
    "display(type(alpaca_secret_key))\n",
    "\n",
    "# Create the Alpaca tradeapi.REST object\n",
    "alpaca = tradeapi.REST(\n",
    "    alpaca_api_key,\n",
    "    alpaca_secret_key,\n",
    "    api_version=\"v2\")\n"
   ]
  },
  {
   "cell_type": "markdown",
   "metadata": {},
   "source": [
    "#### Step 3: Set the following parameters for the Alpaca API call:\n",
    "\n",
    "- `tickers`: Use the tickers for the member’s stock and bond holdings.\n",
    "\n",
    "- `timeframe`: Use a time frame of one day.\n",
    "\n",
    "- `start_date` and `end_date`: Use the same date for these parameters, and format them with the date of the previous weekday (or `2020-08-07`). This is because you want the one closing price for the most-recent trading day.\n"
   ]
  },
  {
   "cell_type": "code",
   "execution_count": 36,
   "metadata": {},
   "outputs": [],
   "source": [
    "# Set the tickers for both the bond and stock portion of the portfolio\n",
    "tickers = [\"SPY\", \"AGG\"]\n",
    "\n",
    "# Set timeframe to 1Day\n",
    "timeframe = \"1D\"\n",
    "\n",
    "# Format current date as ISO format\n",
    "# Set both the start and end date at the date of your prior weekday \n",
    "# This will give you the closing price of the previous trading day\n",
    "# Alternatively you can use a start and end date of 2020-08-07\n",
    "start_date = pd.Timestamp(\"2022-10-14\", tz=\"America/New_York\").isoformat()\n",
    "end_date = pd.Timestamp(\"2022-10-14\", tz=\"America/New_York\").isoformat()\n",
    "\n"
   ]
  },
  {
   "cell_type": "markdown",
   "metadata": {},
   "source": [
    "#### Step 4: Get the current closing prices for `SPY` and `AGG` by using the Alpaca `get_bars` function. Format the response as a Pandas DataFrame by including the `df` property at the end of the `get_bars` function."
   ]
  },
  {
   "cell_type": "code",
   "execution_count": 39,
   "metadata": {},
   "outputs": [
    {
     "data": {
      "text/html": [
       "<div>\n",
       "<style scoped>\n",
       "    .dataframe tbody tr th:only-of-type {\n",
       "        vertical-align: middle;\n",
       "    }\n",
       "\n",
       "    .dataframe tbody tr th {\n",
       "        vertical-align: top;\n",
       "    }\n",
       "\n",
       "    .dataframe thead tr th {\n",
       "        text-align: left;\n",
       "    }\n",
       "\n",
       "    .dataframe thead tr:last-of-type th {\n",
       "        text-align: right;\n",
       "    }\n",
       "</style>\n",
       "<table border=\"1\" class=\"dataframe\">\n",
       "  <thead>\n",
       "    <tr>\n",
       "      <th></th>\n",
       "      <th colspan=\"7\" halign=\"left\">SPY</th>\n",
       "      <th colspan=\"7\" halign=\"left\">AGG</th>\n",
       "    </tr>\n",
       "    <tr>\n",
       "      <th></th>\n",
       "      <th>open</th>\n",
       "      <th>high</th>\n",
       "      <th>low</th>\n",
       "      <th>close</th>\n",
       "      <th>volume</th>\n",
       "      <th>trade_count</th>\n",
       "      <th>vwap</th>\n",
       "      <th>open</th>\n",
       "      <th>high</th>\n",
       "      <th>low</th>\n",
       "      <th>close</th>\n",
       "      <th>volume</th>\n",
       "      <th>trade_count</th>\n",
       "      <th>vwap</th>\n",
       "    </tr>\n",
       "    <tr>\n",
       "      <th>timestamp</th>\n",
       "      <th></th>\n",
       "      <th></th>\n",
       "      <th></th>\n",
       "      <th></th>\n",
       "      <th></th>\n",
       "      <th></th>\n",
       "      <th></th>\n",
       "      <th></th>\n",
       "      <th></th>\n",
       "      <th></th>\n",
       "      <th></th>\n",
       "      <th></th>\n",
       "      <th></th>\n",
       "      <th></th>\n",
       "    </tr>\n",
       "  </thead>\n",
       "  <tbody>\n",
       "    <tr>\n",
       "      <th>2022-10-14 04:00:00+00:00</th>\n",
       "      <td>368.54</td>\n",
       "      <td>370.26</td>\n",
       "      <td>356.96</td>\n",
       "      <td>357.63</td>\n",
       "      <td>122920585</td>\n",
       "      <td>818595</td>\n",
       "      <td>361.365272</td>\n",
       "      <td>95.63</td>\n",
       "      <td>95.63</td>\n",
       "      <td>94.61</td>\n",
       "      <td>94.66</td>\n",
       "      <td>8567937</td>\n",
       "      <td>22665</td>\n",
       "      <td>94.776094</td>\n",
       "    </tr>\n",
       "  </tbody>\n",
       "</table>\n",
       "</div>"
      ],
      "text/plain": [
       "                              SPY                                     \\\n",
       "                             open    high     low   close     volume   \n",
       "timestamp                                                              \n",
       "2022-10-14 04:00:00+00:00  368.54  370.26  356.96  357.63  122920585   \n",
       "\n",
       "                                                     AGG                       \\\n",
       "                          trade_count        vwap   open   high    low  close   \n",
       "timestamp                                                                       \n",
       "2022-10-14 04:00:00+00:00      818595  361.365272  95.63  95.63  94.61  94.66   \n",
       "\n",
       "                                                           \n",
       "                            volume trade_count       vwap  \n",
       "timestamp                                                  \n",
       "2022-10-14 04:00:00+00:00  8567937       22665  94.776094  "
      ]
     },
     "execution_count": 39,
     "metadata": {},
     "output_type": "execute_result"
    }
   ],
   "source": [
    "# Use the Alpaca get_bars function to get current closing prices the portfolio\n",
    "# Be sure to set the `df` property after the function to format the response object as a DataFrame\n",
    "prices_df = alpaca.get_bars(\n",
    "    tickers,\n",
    "    timeframe,\n",
    "    start=start_date,\n",
    "    end=end_date    \n",
    ").df\n",
    "\n",
    "# Reorganize the DataFrame\n",
    "# Separate ticker data\n",
    "SPY = prices_df[prices_df['symbol']=='SPY'].drop('symbol', axis=1)\n",
    "AGG = prices_df[prices_df['symbol']=='AGG'].drop('symbol', axis=1)\n",
    "\n",
    "# Concatenate the ticker DataFrames\n",
    "prices_df = pd.concat([SPY,AGG], axis=1, keys=[\"SPY\", \"AGG\"])\n",
    "\n",
    "# Review the first 5 rows of the Alpaca DataFrame\n",
    "prices_df.head()"
   ]
  },
  {
   "cell_type": "markdown",
   "metadata": {},
   "source": [
    "#### Step 5: Navigating the Alpaca response DataFrame, select the `SPY` and `AGG` closing prices, and store them as variables."
   ]
  },
  {
   "cell_type": "code",
   "execution_count": 73,
   "metadata": {},
   "outputs": [
    {
     "data": {
      "text/plain": [
       "94.66"
      ]
     },
     "execution_count": 73,
     "metadata": {},
     "output_type": "execute_result"
    }
   ],
   "source": [
    "# Access the closing price for AGG from the Alpaca DataFrame\n",
    "# Converting the value to a floating point number\n",
    "agg_close_price = prices_df['AGG']['close'][0]\n",
    "\n",
    "# Print the AGG closing price\n",
    "agg_close_price"
   ]
  },
  {
   "cell_type": "code",
   "execution_count": 74,
   "metadata": {},
   "outputs": [
    {
     "data": {
      "text/plain": [
       "357.63"
      ]
     },
     "execution_count": 74,
     "metadata": {},
     "output_type": "execute_result"
    }
   ],
   "source": [
    "# Access the closing price for SPY from the Alpaca DataFrame\n",
    "# Converting the value to a floating point number\n",
    "spy_close_price = prices_df['SPY']['close'][0]\n",
    "\n",
    "# Print the SPY closing price\n",
    "spy_close_price\n"
   ]
  },
  {
   "cell_type": "markdown",
   "metadata": {},
   "source": [
    "#### Step 6: Calculate the value, in US dollars, of the current amount of shares in each of the stock and bond portions of the portfolio, and print the results."
   ]
  },
  {
   "cell_type": "code",
   "execution_count": 77,
   "metadata": {},
   "outputs": [
    {
     "data": {
      "text/plain": [
       "18932.0"
      ]
     },
     "execution_count": 77,
     "metadata": {},
     "output_type": "execute_result"
    }
   ],
   "source": [
    "# Calculate the current value of the bond portion of the portfolio\n",
    "agg_value = agg_shares * agg_close_price\n",
    "\n",
    "# Print the current value of the bond portfolio\n",
    "agg_value\n"
   ]
  },
  {
   "cell_type": "code",
   "execution_count": 75,
   "metadata": {},
   "outputs": [
    {
     "data": {
      "text/plain": [
       "39339.3"
      ]
     },
     "execution_count": 75,
     "metadata": {},
     "output_type": "execute_result"
    }
   ],
   "source": [
    "# Calculate the current value of the stock portion of the portfolio\n",
    "spy_value = spy_shares * spy_close_price\n",
    "\n",
    "# Print the current value of the stock portfolio\n",
    "spy_value "
   ]
  },
  {
   "cell_type": "code",
   "execution_count": 78,
   "metadata": {},
   "outputs": [
    {
     "data": {
      "text/plain": [
       "58271.3"
      ]
     },
     "execution_count": 78,
     "metadata": {},
     "output_type": "execute_result"
    }
   ],
   "source": [
    "# Calculate the total value of the stock and bond portion of the portfolio\n",
    "total_stocks_bonds = agg_value + spy_value\n",
    "\n",
    "# Print the current balance of the stock and bond portion of the portfolio\n",
    "total_stocks_bonds \n"
   ]
  },
  {
   "cell_type": "code",
   "execution_count": 79,
   "metadata": {},
   "outputs": [
    {
     "data": {
      "text/plain": [
       "88315.898"
      ]
     },
     "execution_count": 79,
     "metadata": {},
     "output_type": "execute_result"
    }
   ],
   "source": [
    "# Calculate the total value of the member's entire savings portfolio\n",
    "# Add the value of the cryptocurrency walled to the value of the total stocks and bonds\n",
    "total_portfolio = total_crypto_wallet + total_stocks_bonds\n",
    "\n",
    "# Print current cryptocurrency wallet balance\n",
    "total_portfolio\n"
   ]
  },
  {
   "cell_type": "markdown",
   "metadata": {},
   "source": [
    "### Evaluate the Emergency Fund\n",
    "\n",
    "In this section, you’ll use the valuations for the cryptocurrency wallet and for the stock and bond portions of the portfolio to determine if the credit union member has enough savings to build an emergency fund into their financial plan. To do this, complete the following steps:\n",
    "\n",
    "1. Create a Python list named `savings_data` that has two elements. The first element contains the total value of the cryptocurrency wallet. The second element contains the total value of the stock and bond portions of the portfolio.\n",
    "\n",
    "2. Use the `savings_data` list to create a Pandas DataFrame named `savings_df`, and then display this DataFrame. The function to create the DataFrame should take the following three parameters:\n",
    "\n",
    "    - `savings_data`: Use the list that you just created.\n",
    "\n",
    "    - `columns`: Set this parameter equal to a Python list with a single value called `amount`.\n",
    "\n",
    "    - `index`: Set this parameter equal to a Python list with the values of `crypto` and `stock/bond`.\n",
    "\n",
    "3. Use the `savings_df` DataFrame to plot a pie chart that visualizes the composition of the member’s portfolio. The y-axis of the pie chart uses `amount`. Be sure to add a title.\n",
    "\n",
    "4. Using Python, determine if the current portfolio has enough to create an emergency fund as part of the member’s financial plan. Ideally, an emergency fund should equal to three times the member’s monthly income. To do this, implement the following steps:\n",
    "\n",
    "    1. Create a variable named `emergency_fund_value`, and set it equal to three times the value of the member’s `monthly_income` of $12000. (You set this earlier in Part 1).\n",
    "\n",
    "    2. Create a series of three if statements to determine if the member’s total portfolio is large enough to fund the emergency portfolio:\n",
    "\n",
    "        1. If the total portfolio value is greater than the emergency fund value, display a message congratulating the member for having enough money in this fund.\n",
    "\n",
    "        2. Else if the total portfolio value is equal to the emergency fund value, display a message congratulating the member on reaching this important financial goal.\n",
    "\n",
    "        3. Else the total portfolio is less than the emergency fund value, so display a message showing how many dollars away the member is from reaching the goal. (Subtract the total portfolio value from the emergency fund value.)\n"
   ]
  },
  {
   "cell_type": "markdown",
   "metadata": {},
   "source": [
    "#### Step 1: Create a Python list named `savings_data` that has two elements. The first element contains the total value of the cryptocurrency wallet. The second element contains the total value of the stock and bond portions of the portfolio."
   ]
  },
  {
   "cell_type": "code",
   "execution_count": 81,
   "metadata": {},
   "outputs": [
    {
     "data": {
      "text/plain": [
       "[30044.598, 58271.3]"
      ]
     },
     "execution_count": 81,
     "metadata": {},
     "output_type": "execute_result"
    }
   ],
   "source": [
    "# Consolidate financial assets data into a Python list\n",
    "savings_data = [total_crypto_wallet,total_stocks_bonds]\n",
    "\n",
    "# Review the Python list savings_data\n",
    "savings_data \n",
    "    "
   ]
  },
  {
   "cell_type": "markdown",
   "metadata": {},
   "source": [
    "#### Step 2: Use the `savings_data` list to create a Pandas DataFrame named `savings_df`, and then display this DataFrame. The function to create the DataFrame should take the following three parameters:\n",
    "\n",
    "- `savings_data`: Use the list that you just created.\n",
    "\n",
    "- `columns`: Set this parameter equal to a Python list with a single value called `amount`.\n",
    "\n",
    "- `index`: Set this parameter equal to a Python list with the values of `crypto` and `stock/bond`.\n"
   ]
  },
  {
   "cell_type": "code",
   "execution_count": 82,
   "metadata": {},
   "outputs": [
    {
     "data": {
      "text/html": [
       "<div>\n",
       "<style scoped>\n",
       "    .dataframe tbody tr th:only-of-type {\n",
       "        vertical-align: middle;\n",
       "    }\n",
       "\n",
       "    .dataframe tbody tr th {\n",
       "        vertical-align: top;\n",
       "    }\n",
       "\n",
       "    .dataframe thead th {\n",
       "        text-align: right;\n",
       "    }\n",
       "</style>\n",
       "<table border=\"1\" class=\"dataframe\">\n",
       "  <thead>\n",
       "    <tr style=\"text-align: right;\">\n",
       "      <th></th>\n",
       "      <th>amount</th>\n",
       "    </tr>\n",
       "  </thead>\n",
       "  <tbody>\n",
       "    <tr>\n",
       "      <th>crypto</th>\n",
       "      <td>30044.598</td>\n",
       "    </tr>\n",
       "    <tr>\n",
       "      <th>stock/bond</th>\n",
       "      <td>58271.300</td>\n",
       "    </tr>\n",
       "  </tbody>\n",
       "</table>\n",
       "</div>"
      ],
      "text/plain": [
       "               amount\n",
       "crypto      30044.598\n",
       "stock/bond  58271.300"
      ]
     },
     "execution_count": 82,
     "metadata": {},
     "output_type": "execute_result"
    }
   ],
   "source": [
    "# Create a Pandas DataFrame called savings_df \n",
    "savings_df = pd.DataFrame(data=savings_data,columns=[\"amount\"],index=[\"crypto\",\"stock/bond\"])\n",
    "\n",
    "# Display the savings_df DataFrame\n",
    "savings_df"
   ]
  },
  {
   "cell_type": "markdown",
   "metadata": {},
   "source": [
    "#### Step 3: Use the `savings_df` DataFrame to plot a pie chart that visualizes the composition of the member’s portfolio. The y-axis of the pie chart uses `amount`. Be sure to add a title."
   ]
  },
  {
   "cell_type": "code",
   "execution_count": 84,
   "metadata": {},
   "outputs": [
    {
     "data": {
      "text/plain": [
       "<AxesSubplot:title={'center':'Total portfolio'}, ylabel='amount'>"
      ]
     },
     "execution_count": 85,
     "metadata": {},
     "output_type": "execute_result"
    },
    {
     "data": {
      "image/png": "[encoded data removed]",
      "text/plain": [
       "<Figure size 640x480 with 1 Axes>"
      ]
     },
     "metadata": {},
     "output_type": "display_data"
    }
   ],
   "source": [
    "# Plot the total value of the member's portfolio (crypto and stock/bond) in a pie chart\n",
    "savings_df.plot(kind='pie',y='amount',title=\"T)\n"
   ]
  },
  {
   "cell_type": "markdown",
   "metadata": {},
   "source": [
    "#### Step 4: Using Python, determine if the current portfolio has enough to create an emergency fund as part of the member’s financial plan. Ideally, an emergency fund should equal to three times the member’s monthly income. To do this, implement the following steps:\n",
    "\n",
    "Step 1. Create a variable named `emergency_fund_value`, and set it equal to three times the value of the member’s `monthly_income` of 12000. (You set this earlier in Part 1).\n",
    "\n",
    "Step 2. Create a series of three if statements to determine if the member’s total portfolio is large enough to fund the emergency portfolio:\n",
    "\n",
    "* If the total portfolio value is greater than the emergency fund value, display a message congratulating the member for having enough money in this fund.\n",
    "\n",
    "* Else if the total portfolio value is equal to the emergency fund value, display a message congratulating the member on reaching this important financial goal.\n",
    "\n",
    "* Else the total portfolio is less than the emergency fund value, so display a message showing how many dollars away the member is from reaching the goal. (Subtract the total portfolio value from the emergency fund value.)\n"
   ]
  },
  {
   "cell_type": "markdown",
   "metadata": {},
   "source": [
    "##### Step 4-1: Create a variable named `emergency_fund_value`, and set it equal to three times the value of the member’s `monthly_income` of 12000. (You set this earlier in Part 1)."
   ]
  },
  {
   "cell_type": "code",
   "execution_count": 86,
   "metadata": {},
   "outputs": [],
   "source": [
    "# Create a variable named emergency_fund_value\n",
    "emergency_fund_value = monthly_income * 3"
   ]
  },
  {
   "cell_type": "markdown",
   "metadata": {},
   "source": [
    "##### Step 4-2: Create a series of three if statements to determine if the member’s total portfolio is large enough to fund the emergency portfolio:\n",
    "\n",
    "* If the total portfolio value is greater than the emergency fund value, display a message congratulating the member for having enough money in this fund.\n",
    "\n",
    "* Else if the total portfolio value is equal to the emergency fund value, display a message congratulating the member on reaching this important financial goal.\n",
    "\n",
    "* Else the total portfolio is less than the emergency fund value, so display a message showing how many dollars away the member is from reaching the goal. (Subtract the total portfolio value from the emergency fund value.)"
   ]
  },
  {
   "cell_type": "code",
   "execution_count": 91,
   "metadata": {},
   "outputs": [
    {
     "name": "stdout",
     "output_type": "stream",
     "text": [
      "Congratulations! You have enough money in this fund\n"
     ]
    }
   ],
   "source": [
    "# Evaluate the possibility of creating an emergency fund with 3 conditions:\n",
    "if total_portfolio > emergency_fund_value:\n",
    "    print('Congratulations! You have enough money in this fund')\n",
    "elif total_portfolio == emergency_fund_value:\n",
    "    print('Congratulations! You have reached an important goal')\n",
    "else:\n",
    "    print(f'Unforunately, you need USD{emergency_fund_value-total_portfolio} to reach your goal')\n",
    "        \n",
    "        "
   ]
  },
  {
   "cell_type": "markdown",
   "metadata": {},
   "source": [
    "## Part 2: Create a Financial Planner for Retirement"
   ]
  },
  {
   "cell_type": "markdown",
   "metadata": {},
   "source": [
    "### Create the Monte Carlo Simulation\n",
    "\n",
    "In this section, you’ll use the MCForecastTools library to create a Monte Carlo simulation for the member’s savings portfolio. To do this, complete the following steps:\n",
    "\n",
    "1. Make an API call via the Alpaca SDK to get 3 years of historical closing prices for a traditional 60/40 portfolio split: 60% stocks (SPY) and 40% bonds (AGG).\n",
    "\n",
    "2. Run a Monte Carlo simulation of 500 samples and 30 years for the 60/40 portfolio, and then plot the results.The following image shows the overlay line plot resulting from a simulation with these characteristics. However, because a random number generator is used to run each live Monte Carlo simulation, your image will differ slightly from this exact image:\n",
    "\n",
    "![A screenshot depicts the resulting plot.](Images/5-4-monte-carlo-line-plot.png)\n",
    "\n",
    "3. Plot the probability distribution of the Monte Carlo simulation. Plot the probability distribution of the Monte Carlo simulation. The following image shows the histogram plot resulting from a simulation with these characteristics. However, because a random number generator is used to run each live Monte Carlo simulation, your image will differ slightly from this exact image:\n",
    "\n",
    "![A screenshot depicts the histogram plot.](Images/5-4-monte-carlo-histogram.png)\n",
    "\n",
    "4. Generate the summary statistics for the Monte Carlo simulation.\n",
    "\n"
   ]
  },
  {
   "cell_type": "markdown",
   "metadata": {},
   "source": [
    "#### Step 1: Make an API call via the Alpaca SDK to get 3 years of historical closing prices for a traditional 60/40 portfolio split: 60% stocks (SPY) and 40% bonds (AGG)."
   ]
  },
  {
   "cell_type": "code",
   "execution_count": 92,
   "metadata": {},
   "outputs": [],
   "source": [
    "# Set start and end dates of 3 years back from your current date\n",
    "# Alternatively, you can use an end date of 2020-08-07 and work 3 years back from that date \n",
    "start_date = pd.Timestamp(\"2018-10-14\", tz=\"America/New_York\").isoformat()\n",
    "end_date = pd.Timestamp(\"2022-10-14\", tz=\"America/New_York\").isoformat()\n",
    "\n"
   ]
  },
  {
   "cell_type": "code",
   "execution_count": 96,
   "metadata": {},
   "outputs": [
    {
     "data": {
      "text/html": [
       "<div>\n",
       "<style scoped>\n",
       "    .dataframe tbody tr th:only-of-type {\n",
       "        vertical-align: middle;\n",
       "    }\n",
       "\n",
       "    .dataframe tbody tr th {\n",
       "        vertical-align: top;\n",
       "    }\n",
       "\n",
       "    .dataframe thead tr th {\n",
       "        text-align: left;\n",
       "    }\n",
       "\n",
       "    .dataframe thead tr:last-of-type th {\n",
       "        text-align: right;\n",
       "    }\n",
       "</style>\n",
       "<table border=\"1\" class=\"dataframe\">\n",
       "  <thead>\n",
       "    <tr>\n",
       "      <th></th>\n",
       "      <th colspan=\"7\" halign=\"left\">SPY</th>\n",
       "      <th colspan=\"7\" halign=\"left\">AGG</th>\n",
       "    </tr>\n",
       "    <tr>\n",
       "      <th></th>\n",
       "      <th>open</th>\n",
       "      <th>high</th>\n",
       "      <th>low</th>\n",
       "      <th>close</th>\n",
       "      <th>volume</th>\n",
       "      <th>trade_count</th>\n",
       "      <th>vwap</th>\n",
       "      <th>open</th>\n",
       "      <th>high</th>\n",
       "      <th>low</th>\n",
       "      <th>close</th>\n",
       "      <th>volume</th>\n",
       "      <th>trade_count</th>\n",
       "      <th>vwap</th>\n",
       "    </tr>\n",
       "    <tr>\n",
       "      <th>timestamp</th>\n",
       "      <th></th>\n",
       "      <th></th>\n",
       "      <th></th>\n",
       "      <th></th>\n",
       "      <th></th>\n",
       "      <th></th>\n",
       "      <th></th>\n",
       "      <th></th>\n",
       "      <th></th>\n",
       "      <th></th>\n",
       "      <th></th>\n",
       "      <th></th>\n",
       "      <th></th>\n",
       "      <th></th>\n",
       "    </tr>\n",
       "  </thead>\n",
       "  <tbody>\n",
       "    <tr>\n",
       "      <th>2018-10-15 04:00:00+00:00</th>\n",
       "      <td>275.54</td>\n",
       "      <td>277.04</td>\n",
       "      <td>274.30</td>\n",
       "      <td>274.40</td>\n",
       "      <td>104132367</td>\n",
       "      <td>543707</td>\n",
       "      <td>275.519667</td>\n",
       "      <td>104.73</td>\n",
       "      <td>104.7835</td>\n",
       "      <td>104.6233</td>\n",
       "      <td>104.68</td>\n",
       "      <td>3047999</td>\n",
       "      <td>11516</td>\n",
       "      <td>104.680553</td>\n",
       "    </tr>\n",
       "    <tr>\n",
       "      <th>2018-10-16 04:00:00+00:00</th>\n",
       "      <td>276.56</td>\n",
       "      <td>280.82</td>\n",
       "      <td>276.07</td>\n",
       "      <td>280.40</td>\n",
       "      <td>119803983</td>\n",
       "      <td>476753</td>\n",
       "      <td>278.542974</td>\n",
       "      <td>104.69</td>\n",
       "      <td>104.7400</td>\n",
       "      <td>104.5800</td>\n",
       "      <td>104.74</td>\n",
       "      <td>5750238</td>\n",
       "      <td>17022</td>\n",
       "      <td>104.666607</td>\n",
       "    </tr>\n",
       "    <tr>\n",
       "      <th>2018-10-17 04:00:00+00:00</th>\n",
       "      <td>280.44</td>\n",
       "      <td>281.15</td>\n",
       "      <td>277.56</td>\n",
       "      <td>280.45</td>\n",
       "      <td>110755987</td>\n",
       "      <td>566702</td>\n",
       "      <td>279.891067</td>\n",
       "      <td>104.71</td>\n",
       "      <td>104.7700</td>\n",
       "      <td>104.5200</td>\n",
       "      <td>104.53</td>\n",
       "      <td>2844251</td>\n",
       "      <td>13134</td>\n",
       "      <td>104.644388</td>\n",
       "    </tr>\n",
       "    <tr>\n",
       "      <th>2018-10-18 04:00:00+00:00</th>\n",
       "      <td>279.41</td>\n",
       "      <td>280.07</td>\n",
       "      <td>274.97</td>\n",
       "      <td>276.40</td>\n",
       "      <td>135603525</td>\n",
       "      <td>747568</td>\n",
       "      <td>277.110785</td>\n",
       "      <td>104.39</td>\n",
       "      <td>104.6195</td>\n",
       "      <td>104.3750</td>\n",
       "      <td>104.46</td>\n",
       "      <td>3158160</td>\n",
       "      <td>13494</td>\n",
       "      <td>104.500896</td>\n",
       "    </tr>\n",
       "    <tr>\n",
       "      <th>2018-10-19 04:00:00+00:00</th>\n",
       "      <td>277.16</td>\n",
       "      <td>279.30</td>\n",
       "      <td>275.47</td>\n",
       "      <td>276.25</td>\n",
       "      <td>139970953</td>\n",
       "      <td>583435</td>\n",
       "      <td>277.067808</td>\n",
       "      <td>104.47</td>\n",
       "      <td>104.5500</td>\n",
       "      <td>104.3400</td>\n",
       "      <td>104.37</td>\n",
       "      <td>2985836</td>\n",
       "      <td>13174</td>\n",
       "      <td>104.391717</td>\n",
       "    </tr>\n",
       "  </tbody>\n",
       "</table>\n",
       "</div>"
      ],
      "text/plain": [
       "                              SPY                                     \\\n",
       "                             open    high     low   close     volume   \n",
       "timestamp                                                              \n",
       "2018-10-15 04:00:00+00:00  275.54  277.04  274.30  274.40  104132367   \n",
       "2018-10-16 04:00:00+00:00  276.56  280.82  276.07  280.40  119803983   \n",
       "2018-10-17 04:00:00+00:00  280.44  281.15  277.56  280.45  110755987   \n",
       "2018-10-18 04:00:00+00:00  279.41  280.07  274.97  276.40  135603525   \n",
       "2018-10-19 04:00:00+00:00  277.16  279.30  275.47  276.25  139970953   \n",
       "\n",
       "                                                      AGG                      \\\n",
       "                          trade_count        vwap    open      high       low   \n",
       "timestamp                                                                       \n",
       "2018-10-15 04:00:00+00:00      543707  275.519667  104.73  104.7835  104.6233   \n",
       "2018-10-16 04:00:00+00:00      476753  278.542974  104.69  104.7400  104.5800   \n",
       "2018-10-17 04:00:00+00:00      566702  279.891067  104.71  104.7700  104.5200   \n",
       "2018-10-18 04:00:00+00:00      747568  277.110785  104.39  104.6195  104.3750   \n",
       "2018-10-19 04:00:00+00:00      583435  277.067808  104.47  104.5500  104.3400   \n",
       "\n",
       "                                                                    \n",
       "                            close   volume trade_count        vwap  \n",
       "timestamp                                                           \n",
       "2018-10-15 04:00:00+00:00  104.68  3047999       11516  104.680553  \n",
       "2018-10-16 04:00:00+00:00  104.74  5750238       17022  104.666607  \n",
       "2018-10-17 04:00:00+00:00  104.53  2844251       13134  104.644388  \n",
       "2018-10-18 04:00:00+00:00  104.46  3158160       13494  104.500896  \n",
       "2018-10-19 04:00:00+00:00  104.37  2985836       13174  104.391717  "
      ]
     },
     "metadata": {},
     "output_type": "display_data"
    },
    {
     "data": {
      "text/html": [
       "<div>\n",
       "<style scoped>\n",
       "    .dataframe tbody tr th:only-of-type {\n",
       "        vertical-align: middle;\n",
       "    }\n",
       "\n",
       "    .dataframe tbody tr th {\n",
       "        vertical-align: top;\n",
       "    }\n",
       "\n",
       "    .dataframe thead tr th {\n",
       "        text-align: left;\n",
       "    }\n",
       "\n",
       "    .dataframe thead tr:last-of-type th {\n",
       "        text-align: right;\n",
       "    }\n",
       "</style>\n",
       "<table border=\"1\" class=\"dataframe\">\n",
       "  <thead>\n",
       "    <tr>\n",
       "      <th></th>\n",
       "      <th colspan=\"7\" halign=\"left\">SPY</th>\n",
       "      <th colspan=\"7\" halign=\"left\">AGG</th>\n",
       "    </tr>\n",
       "    <tr>\n",
       "      <th></th>\n",
       "      <th>open</th>\n",
       "      <th>high</th>\n",
       "      <th>low</th>\n",
       "      <th>close</th>\n",
       "      <th>volume</th>\n",
       "      <th>trade_count</th>\n",
       "      <th>vwap</th>\n",
       "      <th>open</th>\n",
       "      <th>high</th>\n",
       "      <th>low</th>\n",
       "      <th>close</th>\n",
       "      <th>volume</th>\n",
       "      <th>trade_count</th>\n",
       "      <th>vwap</th>\n",
       "    </tr>\n",
       "    <tr>\n",
       "      <th>timestamp</th>\n",
       "      <th></th>\n",
       "      <th></th>\n",
       "      <th></th>\n",
       "      <th></th>\n",
       "      <th></th>\n",
       "      <th></th>\n",
       "      <th></th>\n",
       "      <th></th>\n",
       "      <th></th>\n",
       "      <th></th>\n",
       "      <th></th>\n",
       "      <th></th>\n",
       "      <th></th>\n",
       "      <th></th>\n",
       "    </tr>\n",
       "  </thead>\n",
       "  <tbody>\n",
       "    <tr>\n",
       "      <th>2022-10-10 04:00:00+00:00</th>\n",
       "      <td>364.00</td>\n",
       "      <td>364.2100</td>\n",
       "      <td>357.67</td>\n",
       "      <td>360.02</td>\n",
       "      <td>75459157</td>\n",
       "      <td>593460</td>\n",
       "      <td>360.745547</td>\n",
       "      <td>95.73</td>\n",
       "      <td>95.75</td>\n",
       "      <td>95.1536</td>\n",
       "      <td>95.34</td>\n",
       "      <td>4071915</td>\n",
       "      <td>15588</td>\n",
       "      <td>95.345802</td>\n",
       "    </tr>\n",
       "    <tr>\n",
       "      <th>2022-10-11 04:00:00+00:00</th>\n",
       "      <td>358.30</td>\n",
       "      <td>363.0300</td>\n",
       "      <td>355.71</td>\n",
       "      <td>357.74</td>\n",
       "      <td>91448816</td>\n",
       "      <td>688092</td>\n",
       "      <td>358.717517</td>\n",
       "      <td>95.63</td>\n",
       "      <td>95.83</td>\n",
       "      <td>95.2700</td>\n",
       "      <td>95.40</td>\n",
       "      <td>8769515</td>\n",
       "      <td>24296</td>\n",
       "      <td>95.625885</td>\n",
       "    </tr>\n",
       "    <tr>\n",
       "      <th>2022-10-12 04:00:00+00:00</th>\n",
       "      <td>358.11</td>\n",
       "      <td>359.8179</td>\n",
       "      <td>356.30</td>\n",
       "      <td>356.56</td>\n",
       "      <td>76538522</td>\n",
       "      <td>549606</td>\n",
       "      <td>358.000408</td>\n",
       "      <td>95.25</td>\n",
       "      <td>95.61</td>\n",
       "      <td>95.2300</td>\n",
       "      <td>95.48</td>\n",
       "      <td>5631485</td>\n",
       "      <td>20896</td>\n",
       "      <td>95.404315</td>\n",
       "    </tr>\n",
       "    <tr>\n",
       "      <th>2022-10-13 04:00:00+00:00</th>\n",
       "      <td>349.43</td>\n",
       "      <td>367.5100</td>\n",
       "      <td>348.11</td>\n",
       "      <td>365.97</td>\n",
       "      <td>145171940</td>\n",
       "      <td>1098996</td>\n",
       "      <td>359.798331</td>\n",
       "      <td>94.23</td>\n",
       "      <td>95.44</td>\n",
       "      <td>94.1800</td>\n",
       "      <td>95.18</td>\n",
       "      <td>6231878</td>\n",
       "      <td>23778</td>\n",
       "      <td>95.068272</td>\n",
       "    </tr>\n",
       "    <tr>\n",
       "      <th>2022-10-14 04:00:00+00:00</th>\n",
       "      <td>368.54</td>\n",
       "      <td>370.2600</td>\n",
       "      <td>356.96</td>\n",
       "      <td>357.63</td>\n",
       "      <td>122920585</td>\n",
       "      <td>818595</td>\n",
       "      <td>361.365272</td>\n",
       "      <td>95.63</td>\n",
       "      <td>95.63</td>\n",
       "      <td>94.6100</td>\n",
       "      <td>94.66</td>\n",
       "      <td>8567937</td>\n",
       "      <td>22665</td>\n",
       "      <td>94.776094</td>\n",
       "    </tr>\n",
       "  </tbody>\n",
       "</table>\n",
       "</div>"
      ],
      "text/plain": [
       "                              SPY                                       \\\n",
       "                             open      high     low   close     volume   \n",
       "timestamp                                                                \n",
       "2022-10-10 04:00:00+00:00  364.00  364.2100  357.67  360.02   75459157   \n",
       "2022-10-11 04:00:00+00:00  358.30  363.0300  355.71  357.74   91448816   \n",
       "2022-10-12 04:00:00+00:00  358.11  359.8179  356.30  356.56   76538522   \n",
       "2022-10-13 04:00:00+00:00  349.43  367.5100  348.11  365.97  145171940   \n",
       "2022-10-14 04:00:00+00:00  368.54  370.2600  356.96  357.63  122920585   \n",
       "\n",
       "                                                     AGG                  \\\n",
       "                          trade_count        vwap   open   high      low   \n",
       "timestamp                                                                  \n",
       "2022-10-10 04:00:00+00:00      593460  360.745547  95.73  95.75  95.1536   \n",
       "2022-10-11 04:00:00+00:00      688092  358.717517  95.63  95.83  95.2700   \n",
       "2022-10-12 04:00:00+00:00      549606  358.000408  95.25  95.61  95.2300   \n",
       "2022-10-13 04:00:00+00:00     1098996  359.798331  94.23  95.44  94.1800   \n",
       "2022-10-14 04:00:00+00:00      818595  361.365272  95.63  95.63  94.6100   \n",
       "\n",
       "                                                                  \n",
       "                           close   volume trade_count       vwap  \n",
       "timestamp                                                         \n",
       "2022-10-10 04:00:00+00:00  95.34  4071915       15588  95.345802  \n",
       "2022-10-11 04:00:00+00:00  95.40  8769515       24296  95.625885  \n",
       "2022-10-12 04:00:00+00:00  95.48  5631485       20896  95.404315  \n",
       "2022-10-13 04:00:00+00:00  95.18  6231878       23778  95.068272  \n",
       "2022-10-14 04:00:00+00:00  94.66  8567937       22665  94.776094  "
      ]
     },
     "metadata": {},
     "output_type": "display_data"
    }
   ],
   "source": [
    "# Use the Alpaca get_bars function to make the API call to get the 3 years worth of pricing data\n",
    "# The tickers and timeframe parameters should have been set in Part 1 of this activity \n",
    "# The start and end dates should be updated with the information set above\n",
    "# Remember to add the df property to the end of the call so the response is returned as a DataFrame\n",
    "monte_df = alpaca.get_bars(\n",
    "    tickers,\n",
    "    timeframe,\n",
    "    start=start_date,\n",
    "    end=end_date    \n",
    ").df\n",
    "\n",
    "# Reorganize the DataFrame\n",
    "# Separate ticker data\n",
    "SPY = monte_df[monte_df['symbol']=='SPY'].drop('symbol', axis=1)\n",
    "AGG = monte_df[monte_df['symbol']=='AGG'].drop('symbol', axis=1)\n",
    " \n",
    "# Concatenate the ticker DataFrames\n",
    "monte_df = pd.concat([SPY,AGG], axis=1, keys=[\"SPY\", \"AGG\"])\n",
    "\n",
    "# Display both the first and last five rows of the DataFrame\n",
    "display(monte_df.head())\n",
    "display(monte_df.tail())"
   ]
  },
  {
   "cell_type": "markdown",
   "metadata": {},
   "source": [
    "#### Step 2: Run a Monte Carlo simulation of 500 samples and 30 years for the 60/40 portfolio, and then plot the results."
   ]
  },
  {
   "cell_type": "code",
   "execution_count": 99,
   "metadata": {},
   "outputs": [
    {
     "data": {
      "text/html": [
       "<div>\n",
       "<style scoped>\n",
       "    .dataframe tbody tr th:only-of-type {\n",
       "        vertical-align: middle;\n",
       "    }\n",
       "\n",
       "    .dataframe tbody tr th {\n",
       "        vertical-align: top;\n",
       "    }\n",
       "\n",
       "    .dataframe thead tr th {\n",
       "        text-align: left;\n",
       "    }\n",
       "\n",
       "    .dataframe thead tr:last-of-type th {\n",
       "        text-align: right;\n",
       "    }\n",
       "</style>\n",
       "<table border=\"1\" class=\"dataframe\">\n",
       "  <thead>\n",
       "    <tr>\n",
       "      <th></th>\n",
       "      <th colspan=\"8\" halign=\"left\">SPY</th>\n",
       "      <th colspan=\"8\" halign=\"left\">AGG</th>\n",
       "    </tr>\n",
       "    <tr>\n",
       "      <th></th>\n",
       "      <th>open</th>\n",
       "      <th>high</th>\n",
       "      <th>low</th>\n",
       "      <th>close</th>\n",
       "      <th>volume</th>\n",
       "      <th>trade_count</th>\n",
       "      <th>vwap</th>\n",
       "      <th>daily_return</th>\n",
       "      <th>open</th>\n",
       "      <th>high</th>\n",
       "      <th>low</th>\n",
       "      <th>close</th>\n",
       "      <th>volume</th>\n",
       "      <th>trade_count</th>\n",
       "      <th>vwap</th>\n",
       "      <th>daily_return</th>\n",
       "    </tr>\n",
       "    <tr>\n",
       "      <th>timestamp</th>\n",
       "      <th></th>\n",
       "      <th></th>\n",
       "      <th></th>\n",
       "      <th></th>\n",
       "      <th></th>\n",
       "      <th></th>\n",
       "      <th></th>\n",
       "      <th></th>\n",
       "      <th></th>\n",
       "      <th></th>\n",
       "      <th></th>\n",
       "      <th></th>\n",
       "      <th></th>\n",
       "      <th></th>\n",
       "      <th></th>\n",
       "      <th></th>\n",
       "    </tr>\n",
       "  </thead>\n",
       "  <tbody>\n",
       "    <tr>\n",
       "      <th>2018-10-15 04:00:00+00:00</th>\n",
       "      <td>275.54</td>\n",
       "      <td>277.04</td>\n",
       "      <td>274.30</td>\n",
       "      <td>274.40</td>\n",
       "      <td>104132367</td>\n",
       "      <td>543707</td>\n",
       "      <td>275.519667</td>\n",
       "      <td>NaN</td>\n",
       "      <td>104.73</td>\n",
       "      <td>104.7835</td>\n",
       "      <td>104.6233</td>\n",
       "      <td>104.68</td>\n",
       "      <td>3047999</td>\n",
       "      <td>11516</td>\n",
       "      <td>104.680553</td>\n",
       "      <td>NaN</td>\n",
       "    </tr>\n",
       "    <tr>\n",
       "      <th>2018-10-16 04:00:00+00:00</th>\n",
       "      <td>276.56</td>\n",
       "      <td>280.82</td>\n",
       "      <td>276.07</td>\n",
       "      <td>280.40</td>\n",
       "      <td>119803983</td>\n",
       "      <td>476753</td>\n",
       "      <td>278.542974</td>\n",
       "      <td>0.021866</td>\n",
       "      <td>104.69</td>\n",
       "      <td>104.7400</td>\n",
       "      <td>104.5800</td>\n",
       "      <td>104.74</td>\n",
       "      <td>5750238</td>\n",
       "      <td>17022</td>\n",
       "      <td>104.666607</td>\n",
       "      <td>0.000573</td>\n",
       "    </tr>\n",
       "    <tr>\n",
       "      <th>2018-10-17 04:00:00+00:00</th>\n",
       "      <td>280.44</td>\n",
       "      <td>281.15</td>\n",
       "      <td>277.56</td>\n",
       "      <td>280.45</td>\n",
       "      <td>110755987</td>\n",
       "      <td>566702</td>\n",
       "      <td>279.891067</td>\n",
       "      <td>0.000178</td>\n",
       "      <td>104.71</td>\n",
       "      <td>104.7700</td>\n",
       "      <td>104.5200</td>\n",
       "      <td>104.53</td>\n",
       "      <td>2844251</td>\n",
       "      <td>13134</td>\n",
       "      <td>104.644388</td>\n",
       "      <td>-0.002005</td>\n",
       "    </tr>\n",
       "    <tr>\n",
       "      <th>2018-10-18 04:00:00+00:00</th>\n",
       "      <td>279.41</td>\n",
       "      <td>280.07</td>\n",
       "      <td>274.97</td>\n",
       "      <td>276.40</td>\n",
       "      <td>135603525</td>\n",
       "      <td>747568</td>\n",
       "      <td>277.110785</td>\n",
       "      <td>-0.014441</td>\n",
       "      <td>104.39</td>\n",
       "      <td>104.6195</td>\n",
       "      <td>104.3750</td>\n",
       "      <td>104.46</td>\n",
       "      <td>3158160</td>\n",
       "      <td>13494</td>\n",
       "      <td>104.500896</td>\n",
       "      <td>-0.000670</td>\n",
       "    </tr>\n",
       "    <tr>\n",
       "      <th>2018-10-19 04:00:00+00:00</th>\n",
       "      <td>277.16</td>\n",
       "      <td>279.30</td>\n",
       "      <td>275.47</td>\n",
       "      <td>276.25</td>\n",
       "      <td>139970953</td>\n",
       "      <td>583435</td>\n",
       "      <td>277.067808</td>\n",
       "      <td>-0.000543</td>\n",
       "      <td>104.47</td>\n",
       "      <td>104.5500</td>\n",
       "      <td>104.3400</td>\n",
       "      <td>104.37</td>\n",
       "      <td>2985836</td>\n",
       "      <td>13174</td>\n",
       "      <td>104.391717</td>\n",
       "      <td>-0.000862</td>\n",
       "    </tr>\n",
       "  </tbody>\n",
       "</table>\n",
       "</div>"
      ],
      "text/plain": [
       "                              SPY                                     \\\n",
       "                             open    high     low   close     volume   \n",
       "timestamp                                                              \n",
       "2018-10-15 04:00:00+00:00  275.54  277.04  274.30  274.40  104132367   \n",
       "2018-10-16 04:00:00+00:00  276.56  280.82  276.07  280.40  119803983   \n",
       "2018-10-17 04:00:00+00:00  280.44  281.15  277.56  280.45  110755987   \n",
       "2018-10-18 04:00:00+00:00  279.41  280.07  274.97  276.40  135603525   \n",
       "2018-10-19 04:00:00+00:00  277.16  279.30  275.47  276.25  139970953   \n",
       "\n",
       "                                                                   AGG  \\\n",
       "                          trade_count        vwap daily_return    open   \n",
       "timestamp                                                                \n",
       "2018-10-15 04:00:00+00:00      543707  275.519667          NaN  104.73   \n",
       "2018-10-16 04:00:00+00:00      476753  278.542974     0.021866  104.69   \n",
       "2018-10-17 04:00:00+00:00      566702  279.891067     0.000178  104.71   \n",
       "2018-10-18 04:00:00+00:00      747568  277.110785    -0.014441  104.39   \n",
       "2018-10-19 04:00:00+00:00      583435  277.067808    -0.000543  104.47   \n",
       "\n",
       "                                                                            \\\n",
       "                               high       low   close   volume trade_count   \n",
       "timestamp                                                                    \n",
       "2018-10-15 04:00:00+00:00  104.7835  104.6233  104.68  3047999       11516   \n",
       "2018-10-16 04:00:00+00:00  104.7400  104.5800  104.74  5750238       17022   \n",
       "2018-10-17 04:00:00+00:00  104.7700  104.5200  104.53  2844251       13134   \n",
       "2018-10-18 04:00:00+00:00  104.6195  104.3750  104.46  3158160       13494   \n",
       "2018-10-19 04:00:00+00:00  104.5500  104.3400  104.37  2985836       13174   \n",
       "\n",
       "                                                    \n",
       "                                 vwap daily_return  \n",
       "timestamp                                           \n",
       "2018-10-15 04:00:00+00:00  104.680553          NaN  \n",
       "2018-10-16 04:00:00+00:00  104.666607     0.000573  \n",
       "2018-10-17 04:00:00+00:00  104.644388    -0.002005  \n",
       "2018-10-18 04:00:00+00:00  104.500896    -0.000670  \n",
       "2018-10-19 04:00:00+00:00  104.391717    -0.000862  "
      ]
     },
     "execution_count": 99,
     "metadata": {},
     "output_type": "execute_result"
    }
   ],
   "source": [
    "# Configure the Monte Carlo simulation to forecast 30 years cumulative returns\n",
    "# The weights should be split 40% to AGG and 60% to SPY.\n",
    "# Run 500 samples.\n",
    "MC_simulation = MCSimulation(\n",
    "    portfolio_data = monte_df,\n",
    "    weights = [.60,.40],\n",
    "    num_simulation = 500,\n",
    "    num_trading_days = 252*30\n",
    ")\n",
    "\n",
    "\n",
    "# Review the simulation input data\n",
    "MC_simulation.portfolio_data.head()\n"
   ]
  },
  {
   "cell_type": "code",
   "execution_count": 100,
   "metadata": {},
   "outputs": [
    {
     "name": "stdout",
     "output_type": "stream",
     "text": [
      "Running Monte Carlo simulation number 0.\n",
      "Running Monte Carlo simulation number 10.\n",
      "Running Monte Carlo simulation number 20.\n",
      "Running Monte Carlo simulation number 30.\n",
      "Running Monte Carlo simulation number 40.\n",
      "Running Monte Carlo simulation number 50.\n",
      "Running Monte Carlo simulation number 60.\n",
      "Running Monte Carlo simulation number 70.\n",
      "Running Monte Carlo simulation number 80.\n",
      "Running Monte Carlo simulation number 90.\n",
      "Running Monte Carlo simulation number 100.\n"
     ]
    },
    {
     "name": "stderr",
     "output_type": "stream",
     "text": [
      "C:\\Users\\elope\\OneDrive\\Documents\\Fintech Bootcamp\\Challenges\\Challenge 5\\Starter_Code\\MCForecastTools.py:117: PerformanceWarning: DataFrame is highly fragmented.  This is usually the result of calling `frame.insert` many times, which has poor performance.  Consider joining all columns at once using pd.concat(axis=1) instead.  To get a de-fragmented frame, use `newframe = frame.copy()`\n",
      "  portfolio_cumulative_returns[n] = (1 + sim_df.fillna(0)).cumprod()\n"
     ]
    },
    {
     "name": "stdout",
     "output_type": "stream",
     "text": [
      "Running Monte Carlo simulation number 110.\n",
      "Running Monte Carlo simulation number 120.\n",
      "Running Monte Carlo simulation number 130.\n",
      "Running Monte Carlo simulation number 140.\n",
      "Running Monte Carlo simulation number 150.\n",
      "Running Monte Carlo simulation number 160.\n",
      "Running Monte Carlo simulation number 170.\n",
      "Running Monte Carlo simulation number 180.\n",
      "Running Monte Carlo simulation number 190.\n",
      "Running Monte Carlo simulation number 200.\n",
      "Running Monte Carlo simulation number 210.\n",
      "Running Monte Carlo simulation number 220.\n",
      "Running Monte Carlo simulation number 230.\n",
      "Running Monte Carlo simulation number 240.\n",
      "Running Monte Carlo simulation number 250.\n",
      "Running Monte Carlo simulation number 260.\n",
      "Running Monte Carlo simulation number 270.\n",
      "Running Monte Carlo simulation number 280.\n",
      "Running Monte Carlo simulation number 290.\n",
      "Running Monte Carlo simulation number 300.\n",
      "Running Monte Carlo simulation number 310.\n",
      "Running Monte Carlo simulation number 320.\n",
      "Running Monte Carlo simulation number 330.\n",
      "Running Monte Carlo simulation number 340.\n",
      "Running Monte Carlo simulation number 350.\n",
      "Running Monte Carlo simulation number 360.\n",
      "Running Monte Carlo simulation number 370.\n",
      "Running Monte Carlo simulation number 380.\n",
      "Running Monte Carlo simulation number 390.\n",
      "Running Monte Carlo simulation number 400.\n",
      "Running Monte Carlo simulation number 410.\n",
      "Running Monte Carlo simulation number 420.\n",
      "Running Monte Carlo simulation number 430.\n",
      "Running Monte Carlo simulation number 440.\n",
      "Running Monte Carlo simulation number 450.\n",
      "Running Monte Carlo simulation number 460.\n",
      "Running Monte Carlo simulation number 470.\n",
      "Running Monte Carlo simulation number 480.\n",
      "Running Monte Carlo simulation number 490.\n"
     ]
    },
    {
     "data": {
      "text/html": [
       "<div>\n",
       "<style scoped>\n",
       "    .dataframe tbody tr th:only-of-type {\n",
       "        vertical-align: middle;\n",
       "    }\n",
       "\n",
       "    .dataframe tbody tr th {\n",
       "        vertical-align: top;\n",
       "    }\n",
       "\n",
       "    .dataframe thead th {\n",
       "        text-align: right;\n",
       "    }\n",
       "</style>\n",
       "<table border=\"1\" class=\"dataframe\">\n",
       "  <thead>\n",
       "    <tr style=\"text-align: right;\">\n",
       "      <th></th>\n",
       "      <th>0</th>\n",
       "      <th>1</th>\n",
       "      <th>2</th>\n",
       "      <th>3</th>\n",
       "      <th>4</th>\n",
       "      <th>5</th>\n",
       "      <th>6</th>\n",
       "      <th>7</th>\n",
       "      <th>8</th>\n",
       "      <th>9</th>\n",
       "      <th>...</th>\n",
       "      <th>490</th>\n",
       "      <th>491</th>\n",
       "      <th>492</th>\n",
       "      <th>493</th>\n",
       "      <th>494</th>\n",
       "      <th>495</th>\n",
       "      <th>496</th>\n",
       "      <th>497</th>\n",
       "      <th>498</th>\n",
       "      <th>499</th>\n",
       "    </tr>\n",
       "  </thead>\n",
       "  <tbody>\n",
       "    <tr>\n",
       "      <th>0</th>\n",
       "      <td>1.000000</td>\n",
       "      <td>1.000000</td>\n",
       "      <td>1.000000</td>\n",
       "      <td>1.000000</td>\n",
       "      <td>1.000000</td>\n",
       "      <td>1.000000</td>\n",
       "      <td>1.000000</td>\n",
       "      <td>1.000000</td>\n",
       "      <td>1.000000</td>\n",
       "      <td>1.000000</td>\n",
       "      <td>...</td>\n",
       "      <td>1.000000</td>\n",
       "      <td>1.000000</td>\n",
       "      <td>1.000000</td>\n",
       "      <td>1.000000</td>\n",
       "      <td>1.000000</td>\n",
       "      <td>1.000000</td>\n",
       "      <td>1.000000</td>\n",
       "      <td>1.000000</td>\n",
       "      <td>1.000000</td>\n",
       "      <td>1.000000</td>\n",
       "    </tr>\n",
       "    <tr>\n",
       "      <th>1</th>\n",
       "      <td>1.006731</td>\n",
       "      <td>1.001021</td>\n",
       "      <td>0.975173</td>\n",
       "      <td>1.000336</td>\n",
       "      <td>1.000280</td>\n",
       "      <td>1.010004</td>\n",
       "      <td>1.001728</td>\n",
       "      <td>1.025057</td>\n",
       "      <td>1.000900</td>\n",
       "      <td>1.001320</td>\n",
       "      <td>...</td>\n",
       "      <td>0.989179</td>\n",
       "      <td>0.988905</td>\n",
       "      <td>0.987639</td>\n",
       "      <td>1.011447</td>\n",
       "      <td>0.994532</td>\n",
       "      <td>1.006619</td>\n",
       "      <td>0.989562</td>\n",
       "      <td>1.001733</td>\n",
       "      <td>0.993859</td>\n",
       "      <td>0.996553</td>\n",
       "    </tr>\n",
       "    <tr>\n",
       "      <th>2</th>\n",
       "      <td>1.013050</td>\n",
       "      <td>0.993693</td>\n",
       "      <td>0.975461</td>\n",
       "      <td>0.987995</td>\n",
       "      <td>1.005958</td>\n",
       "      <td>1.004971</td>\n",
       "      <td>1.014322</td>\n",
       "      <td>1.017856</td>\n",
       "      <td>1.001806</td>\n",
       "      <td>0.995129</td>\n",
       "      <td>...</td>\n",
       "      <td>1.002233</td>\n",
       "      <td>0.992387</td>\n",
       "      <td>0.976364</td>\n",
       "      <td>1.009880</td>\n",
       "      <td>0.992463</td>\n",
       "      <td>1.008256</td>\n",
       "      <td>0.990199</td>\n",
       "      <td>0.997771</td>\n",
       "      <td>0.987753</td>\n",
       "      <td>0.998459</td>\n",
       "    </tr>\n",
       "    <tr>\n",
       "      <th>3</th>\n",
       "      <td>0.992836</td>\n",
       "      <td>0.989974</td>\n",
       "      <td>0.962506</td>\n",
       "      <td>0.983663</td>\n",
       "      <td>1.026287</td>\n",
       "      <td>1.000044</td>\n",
       "      <td>1.021968</td>\n",
       "      <td>1.022171</td>\n",
       "      <td>1.001587</td>\n",
       "      <td>1.004843</td>\n",
       "      <td>...</td>\n",
       "      <td>0.992062</td>\n",
       "      <td>1.004683</td>\n",
       "      <td>0.974948</td>\n",
       "      <td>1.010691</td>\n",
       "      <td>0.978131</td>\n",
       "      <td>1.014479</td>\n",
       "      <td>0.983965</td>\n",
       "      <td>1.000871</td>\n",
       "      <td>0.983493</td>\n",
       "      <td>0.991295</td>\n",
       "    </tr>\n",
       "    <tr>\n",
       "      <th>4</th>\n",
       "      <td>0.998672</td>\n",
       "      <td>0.985342</td>\n",
       "      <td>0.960744</td>\n",
       "      <td>0.987013</td>\n",
       "      <td>1.016090</td>\n",
       "      <td>1.001103</td>\n",
       "      <td>1.016800</td>\n",
       "      <td>1.026393</td>\n",
       "      <td>0.996487</td>\n",
       "      <td>0.999988</td>\n",
       "      <td>...</td>\n",
       "      <td>0.991998</td>\n",
       "      <td>1.009464</td>\n",
       "      <td>0.975315</td>\n",
       "      <td>1.012937</td>\n",
       "      <td>0.983019</td>\n",
       "      <td>1.016423</td>\n",
       "      <td>0.989073</td>\n",
       "      <td>0.991730</td>\n",
       "      <td>0.987238</td>\n",
       "      <td>0.985757</td>\n",
       "    </tr>\n",
       "    <tr>\n",
       "      <th>...</th>\n",
       "      <td>...</td>\n",
       "      <td>...</td>\n",
       "      <td>...</td>\n",
       "      <td>...</td>\n",
       "      <td>...</td>\n",
       "      <td>...</td>\n",
       "      <td>...</td>\n",
       "      <td>...</td>\n",
       "      <td>...</td>\n",
       "      <td>...</td>\n",
       "      <td>...</td>\n",
       "      <td>...</td>\n",
       "      <td>...</td>\n",
       "      <td>...</td>\n",
       "      <td>...</td>\n",
       "      <td>...</td>\n",
       "      <td>...</td>\n",
       "      <td>...</td>\n",
       "      <td>...</td>\n",
       "      <td>...</td>\n",
       "      <td>...</td>\n",
       "    </tr>\n",
       "    <tr>\n",
       "      <th>7556</th>\n",
       "      <td>9.384360</td>\n",
       "      <td>2.424986</td>\n",
       "      <td>4.983002</td>\n",
       "      <td>2.367204</td>\n",
       "      <td>1.307430</td>\n",
       "      <td>1.690857</td>\n",
       "      <td>5.874872</td>\n",
       "      <td>5.464956</td>\n",
       "      <td>1.204457</td>\n",
       "      <td>2.729283</td>\n",
       "      <td>...</td>\n",
       "      <td>10.959896</td>\n",
       "      <td>7.100764</td>\n",
       "      <td>2.047065</td>\n",
       "      <td>1.490728</td>\n",
       "      <td>1.274289</td>\n",
       "      <td>35.964716</td>\n",
       "      <td>5.113436</td>\n",
       "      <td>1.989685</td>\n",
       "      <td>5.588116</td>\n",
       "      <td>15.361944</td>\n",
       "    </tr>\n",
       "    <tr>\n",
       "      <th>7557</th>\n",
       "      <td>9.422767</td>\n",
       "      <td>2.460328</td>\n",
       "      <td>4.906320</td>\n",
       "      <td>2.366152</td>\n",
       "      <td>1.302200</td>\n",
       "      <td>1.684015</td>\n",
       "      <td>5.805672</td>\n",
       "      <td>5.485148</td>\n",
       "      <td>1.197067</td>\n",
       "      <td>2.735204</td>\n",
       "      <td>...</td>\n",
       "      <td>10.959670</td>\n",
       "      <td>7.200642</td>\n",
       "      <td>2.020778</td>\n",
       "      <td>1.466088</td>\n",
       "      <td>1.280221</td>\n",
       "      <td>35.668275</td>\n",
       "      <td>5.072994</td>\n",
       "      <td>2.010771</td>\n",
       "      <td>5.524429</td>\n",
       "      <td>15.487386</td>\n",
       "    </tr>\n",
       "    <tr>\n",
       "      <th>7558</th>\n",
       "      <td>9.424498</td>\n",
       "      <td>2.456881</td>\n",
       "      <td>4.912318</td>\n",
       "      <td>2.397053</td>\n",
       "      <td>1.311913</td>\n",
       "      <td>1.680125</td>\n",
       "      <td>5.788894</td>\n",
       "      <td>5.430900</td>\n",
       "      <td>1.183216</td>\n",
       "      <td>2.760160</td>\n",
       "      <td>...</td>\n",
       "      <td>10.854642</td>\n",
       "      <td>7.160405</td>\n",
       "      <td>2.031032</td>\n",
       "      <td>1.458959</td>\n",
       "      <td>1.273882</td>\n",
       "      <td>35.365239</td>\n",
       "      <td>5.074421</td>\n",
       "      <td>1.989369</td>\n",
       "      <td>5.511358</td>\n",
       "      <td>15.663162</td>\n",
       "    </tr>\n",
       "    <tr>\n",
       "      <th>7559</th>\n",
       "      <td>9.581693</td>\n",
       "      <td>2.460220</td>\n",
       "      <td>4.913381</td>\n",
       "      <td>2.388743</td>\n",
       "      <td>1.313837</td>\n",
       "      <td>1.694165</td>\n",
       "      <td>5.872474</td>\n",
       "      <td>5.424026</td>\n",
       "      <td>1.179942</td>\n",
       "      <td>2.749195</td>\n",
       "      <td>...</td>\n",
       "      <td>10.804145</td>\n",
       "      <td>7.120705</td>\n",
       "      <td>2.034791</td>\n",
       "      <td>1.462520</td>\n",
       "      <td>1.280735</td>\n",
       "      <td>34.989169</td>\n",
       "      <td>5.073470</td>\n",
       "      <td>1.964030</td>\n",
       "      <td>5.515447</td>\n",
       "      <td>15.613995</td>\n",
       "    </tr>\n",
       "    <tr>\n",
       "      <th>7560</th>\n",
       "      <td>9.542821</td>\n",
       "      <td>2.471959</td>\n",
       "      <td>4.986032</td>\n",
       "      <td>2.383892</td>\n",
       "      <td>1.300380</td>\n",
       "      <td>1.682192</td>\n",
       "      <td>5.851595</td>\n",
       "      <td>5.355061</td>\n",
       "      <td>1.180122</td>\n",
       "      <td>2.767189</td>\n",
       "      <td>...</td>\n",
       "      <td>10.773674</td>\n",
       "      <td>7.134808</td>\n",
       "      <td>2.033520</td>\n",
       "      <td>1.440356</td>\n",
       "      <td>1.261101</td>\n",
       "      <td>35.026074</td>\n",
       "      <td>5.075055</td>\n",
       "      <td>2.005836</td>\n",
       "      <td>5.542298</td>\n",
       "      <td>15.585741</td>\n",
       "    </tr>\n",
       "  </tbody>\n",
       "</table>\n",
       "<p>7561 rows × 500 columns</p>\n",
       "</div>"
      ],
      "text/plain": [
       "           0         1         2         3         4         5         6    \\\n",
       "0     1.000000  1.000000  1.000000  1.000000  1.000000  1.000000  1.000000   \n",
       "1     1.006731  1.001021  0.975173  1.000336  1.000280  1.010004  1.001728   \n",
       "2     1.013050  0.993693  0.975461  0.987995  1.005958  1.004971  1.014322   \n",
       "3     0.992836  0.989974  0.962506  0.983663  1.026287  1.000044  1.021968   \n",
       "4     0.998672  0.985342  0.960744  0.987013  1.016090  1.001103  1.016800   \n",
       "...        ...       ...       ...       ...       ...       ...       ...   \n",
       "7556  9.384360  2.424986  4.983002  2.367204  1.307430  1.690857  5.874872   \n",
       "7557  9.422767  2.460328  4.906320  2.366152  1.302200  1.684015  5.805672   \n",
       "7558  9.424498  2.456881  4.912318  2.397053  1.311913  1.680125  5.788894   \n",
       "7559  9.581693  2.460220  4.913381  2.388743  1.313837  1.694165  5.872474   \n",
       "7560  9.542821  2.471959  4.986032  2.383892  1.300380  1.682192  5.851595   \n",
       "\n",
       "           7         8         9    ...        490       491       492  \\\n",
       "0     1.000000  1.000000  1.000000  ...   1.000000  1.000000  1.000000   \n",
       "1     1.025057  1.000900  1.001320  ...   0.989179  0.988905  0.987639   \n",
       "2     1.017856  1.001806  0.995129  ...   1.002233  0.992387  0.976364   \n",
       "3     1.022171  1.001587  1.004843  ...   0.992062  1.004683  0.974948   \n",
       "4     1.026393  0.996487  0.999988  ...   0.991998  1.009464  0.975315   \n",
       "...        ...       ...       ...  ...        ...       ...       ...   \n",
       "7556  5.464956  1.204457  2.729283  ...  10.959896  7.100764  2.047065   \n",
       "7557  5.485148  1.197067  2.735204  ...  10.959670  7.200642  2.020778   \n",
       "7558  5.430900  1.183216  2.760160  ...  10.854642  7.160405  2.031032   \n",
       "7559  5.424026  1.179942  2.749195  ...  10.804145  7.120705  2.034791   \n",
       "7560  5.355061  1.180122  2.767189  ...  10.773674  7.134808  2.033520   \n",
       "\n",
       "           493       494        495       496       497       498        499  \n",
       "0     1.000000  1.000000   1.000000  1.000000  1.000000  1.000000   1.000000  \n",
       "1     1.011447  0.994532   1.006619  0.989562  1.001733  0.993859   0.996553  \n",
       "2     1.009880  0.992463   1.008256  0.990199  0.997771  0.987753   0.998459  \n",
       "3     1.010691  0.978131   1.014479  0.983965  1.000871  0.983493   0.991295  \n",
       "4     1.012937  0.983019   1.016423  0.989073  0.991730  0.987238   0.985757  \n",
       "...        ...       ...        ...       ...       ...       ...        ...  \n",
       "7556  1.490728  1.274289  35.964716  5.113436  1.989685  5.588116  15.361944  \n",
       "7557  1.466088  1.280221  35.668275  5.072994  2.010771  5.524429  15.487386  \n",
       "7558  1.458959  1.273882  35.365239  5.074421  1.989369  5.511358  15.663162  \n",
       "7559  1.462520  1.280735  34.989169  5.073470  1.964030  5.515447  15.613995  \n",
       "7560  1.440356  1.261101  35.026074  5.075055  2.005836  5.542298  15.585741  \n",
       "\n",
       "[7561 rows x 500 columns]"
      ]
     },
     "execution_count": 100,
     "metadata": {},
     "output_type": "execute_result"
    }
   ],
   "source": [
    "# Run the Monte Carlo simulation to forecast 30 years cumulative returns\n",
    "MC_simulation.calc_cumulative_return()\n"
   ]
  },
  {
   "cell_type": "code",
   "execution_count": 101,
   "metadata": {},
   "outputs": [
    {
     "data": {
      "image/png": "[encoded data removed]",
      "text/plain": [
       "<Figure size 640x480 with 1 Axes>"
      ]
     },
     "metadata": {},
     "output_type": "display_data"
    }
   ],
   "source": [
    "# Visualize the 30-year Monte Carlo simulation by creating an\n",
    "# overlay line plot\n",
    "MC_line_plot = MC_simulation.plot_simulation()"
   ]
  },
  {
   "cell_type": "markdown",
   "metadata": {},
   "source": [
    "#### Step 3: Plot the probability distribution of the Monte Carlo simulation."
   ]
  },
  {
   "cell_type": "code",
   "execution_count": 102,
   "metadata": {},
   "outputs": [
    {
     "data": {
      "image/png": "[encoded data removed]",
      "text/plain": [
       "<Figure size 640x480 with 1 Axes>"
      ]
     },
     "metadata": {},
     "output_type": "display_data"
    }
   ],
   "source": [
    "# Visualize the probability distribution of the 30-year Monte Carlo simulation \n",
    "# by plotting a histogram\n",
    "MC_hist = MC_simulation.plot_distribution()\n"
   ]
  },
  {
   "cell_type": "markdown",
   "metadata": {},
   "source": [
    "#### Step 4: Generate the summary statistics for the Monte Carlo simulation."
   ]
  },
  {
   "cell_type": "code",
   "execution_count": 103,
   "metadata": {},
   "outputs": [
    {
     "data": {
      "text/plain": [
       "count           500.000000\n",
       "mean              4.100135\n",
       "std               3.706809\n",
       "min               0.432739\n",
       "25%               1.759560\n",
       "50%               2.954239\n",
       "75%               5.268374\n",
       "max              35.026074\n",
       "95% CI Lower      0.736764\n",
       "95% CI Upper     12.979870\n",
       "Name: 7560, dtype: float64"
      ]
     },
     "metadata": {},
     "output_type": "display_data"
    }
   ],
   "source": [
    "# Generate summary statistics from the 30-year Monte Carlo simulation results\n",
    "# Save the results as a variable\n",
    "MC_table = MC_simulation.summarize_cumulative_return()\n",
    "\n",
    "\n",
    "# Review the 30-year Monte Carlo summary statistics\n",
    "display(MC_table)"
   ]
  },
  {
   "cell_type": "markdown",
   "metadata": {},
   "source": [
    "### Analyze the Retirement Portfolio Forecasts\n",
    "\n",
    "Using the current value of only the stock and bond portion of the member's portfolio and the summary statistics that you generated from the Monte Carlo simulation, answer the following question in your Jupyter notebook:\n",
    "\n",
    "-  What are the lower and upper bounds for the expected value of the portfolio with a 95% confidence interval?\n"
   ]
  },
  {
   "cell_type": "code",
   "execution_count": 106,
   "metadata": {},
   "outputs": [
    {
     "name": "stdout",
     "output_type": "stream",
     "text": [
      "The current balance of the stock and bond portfolio is 58271.3.\n"
     ]
    }
   ],
   "source": [
    "# Print the current balance of the stock and bond portion of the members portfolio\n",
    "print(f'The current balance of the stock and bond portfolio is {total_stocks_bonds}.')\n"
   ]
  },
  {
   "cell_type": "code",
   "execution_count": 117,
   "metadata": {},
   "outputs": [
    {
     "name": "stdout",
     "output_type": "stream",
     "text": [
      "There is a 95% chance that an initial investment of $58271.3 in the portfolio with a 60/40 weight portfolio over the next 30 years will end within in the range of $42932.22 and $756353.92.\n"
     ]
    }
   ],
   "source": [
    "# Use the lower and upper `95%` confidence intervals to calculate the range of the possible outcomes for the current stock/bond portfolio\n",
    "ci_lower_thirty_cumulative_return = round(MC_table[8]*total_stocks_bonds,2)\n",
    "ci_upper_thirty_cumulative_return = round(MC_table[9]*total_stocks_bonds,2)\n",
    "\n",
    "# Print the result of your calculations\n",
    "print(f\"There is a 95% chance that an initial investment of ${total_stocks_bonds} in the portfolio\"\n",
    "      f\" with a 60/40 weight portfolio over the next 30 years will end within in the range of\"\n",
    "      f\" ${ci_lower_thirty_cumulative_return} and ${ci_upper_thirty_cumulative_return}.\")\n"
   ]
  },
  {
   "cell_type": "markdown",
   "metadata": {},
   "source": [
    "### Forecast Cumulative Returns in 10 Years\n",
    "\n",
    "The CTO of the credit union is impressed with your work on these planning tools but wonders if 30 years is a long time to wait until retirement. So, your next task is to adjust the retirement portfolio and run a new Monte Carlo simulation to find out if the changes will allow members to retire earlier.\n",
    "\n",
    "For this new Monte Carlo simulation, do the following: \n",
    "\n",
    "- Forecast the cumulative returns for 10 years from now. Because of the shortened investment horizon (30 years to 10 years), the portfolio needs to invest more heavily in the riskier asset&mdash;that is, stock&mdash;to help accumulate wealth for retirement. \n",
    "\n",
    "- Adjust the weights of the retirement portfolio so that the composition for the Monte Carlo simulation consists of 20% bonds and 80% stocks. \n",
    "\n",
    "- Run the simulation over 500 samples, and use the same data that the API call to Alpaca generated.\n",
    "\n",
    "- Based on the new Monte Carlo simulation, answer the following questions in your Jupyter notebook:\n",
    "\n",
    "    - Using the current value of only the stock and bond portion of the member's portfolio and the summary statistics that you generated from the new Monte Carlo simulation, what are the lower and upper bounds for the expected value of the portfolio (with the new weights) with a 95% confidence interval?\n",
    "\n",
    "    - Will weighting the portfolio more heavily toward stocks allow the credit union members to retire after only 10 years?\n"
   ]
  },
  {
   "cell_type": "code",
   "execution_count": 109,
   "metadata": {},
   "outputs": [
    {
     "data": {
      "text/html": [
       "<div>\n",
       "<style scoped>\n",
       "    .dataframe tbody tr th:only-of-type {\n",
       "        vertical-align: middle;\n",
       "    }\n",
       "\n",
       "    .dataframe tbody tr th {\n",
       "        vertical-align: top;\n",
       "    }\n",
       "\n",
       "    .dataframe thead tr th {\n",
       "        text-align: left;\n",
       "    }\n",
       "\n",
       "    .dataframe thead tr:last-of-type th {\n",
       "        text-align: right;\n",
       "    }\n",
       "</style>\n",
       "<table border=\"1\" class=\"dataframe\">\n",
       "  <thead>\n",
       "    <tr>\n",
       "      <th></th>\n",
       "      <th colspan=\"8\" halign=\"left\">SPY</th>\n",
       "      <th colspan=\"8\" halign=\"left\">AGG</th>\n",
       "    </tr>\n",
       "    <tr>\n",
       "      <th></th>\n",
       "      <th>open</th>\n",
       "      <th>high</th>\n",
       "      <th>low</th>\n",
       "      <th>close</th>\n",
       "      <th>volume</th>\n",
       "      <th>trade_count</th>\n",
       "      <th>vwap</th>\n",
       "      <th>daily_return</th>\n",
       "      <th>open</th>\n",
       "      <th>high</th>\n",
       "      <th>low</th>\n",
       "      <th>close</th>\n",
       "      <th>volume</th>\n",
       "      <th>trade_count</th>\n",
       "      <th>vwap</th>\n",
       "      <th>daily_return</th>\n",
       "    </tr>\n",
       "    <tr>\n",
       "      <th>timestamp</th>\n",
       "      <th></th>\n",
       "      <th></th>\n",
       "      <th></th>\n",
       "      <th></th>\n",
       "      <th></th>\n",
       "      <th></th>\n",
       "      <th></th>\n",
       "      <th></th>\n",
       "      <th></th>\n",
       "      <th></th>\n",
       "      <th></th>\n",
       "      <th></th>\n",
       "      <th></th>\n",
       "      <th></th>\n",
       "      <th></th>\n",
       "      <th></th>\n",
       "    </tr>\n",
       "  </thead>\n",
       "  <tbody>\n",
       "    <tr>\n",
       "      <th>2018-10-15 04:00:00+00:00</th>\n",
       "      <td>275.54</td>\n",
       "      <td>277.04</td>\n",
       "      <td>274.30</td>\n",
       "      <td>274.40</td>\n",
       "      <td>104132367</td>\n",
       "      <td>543707</td>\n",
       "      <td>275.519667</td>\n",
       "      <td>NaN</td>\n",
       "      <td>104.73</td>\n",
       "      <td>104.7835</td>\n",
       "      <td>104.6233</td>\n",
       "      <td>104.68</td>\n",
       "      <td>3047999</td>\n",
       "      <td>11516</td>\n",
       "      <td>104.680553</td>\n",
       "      <td>NaN</td>\n",
       "    </tr>\n",
       "    <tr>\n",
       "      <th>2018-10-16 04:00:00+00:00</th>\n",
       "      <td>276.56</td>\n",
       "      <td>280.82</td>\n",
       "      <td>276.07</td>\n",
       "      <td>280.40</td>\n",
       "      <td>119803983</td>\n",
       "      <td>476753</td>\n",
       "      <td>278.542974</td>\n",
       "      <td>0.021866</td>\n",
       "      <td>104.69</td>\n",
       "      <td>104.7400</td>\n",
       "      <td>104.5800</td>\n",
       "      <td>104.74</td>\n",
       "      <td>5750238</td>\n",
       "      <td>17022</td>\n",
       "      <td>104.666607</td>\n",
       "      <td>0.000573</td>\n",
       "    </tr>\n",
       "    <tr>\n",
       "      <th>2018-10-17 04:00:00+00:00</th>\n",
       "      <td>280.44</td>\n",
       "      <td>281.15</td>\n",
       "      <td>277.56</td>\n",
       "      <td>280.45</td>\n",
       "      <td>110755987</td>\n",
       "      <td>566702</td>\n",
       "      <td>279.891067</td>\n",
       "      <td>0.000178</td>\n",
       "      <td>104.71</td>\n",
       "      <td>104.7700</td>\n",
       "      <td>104.5200</td>\n",
       "      <td>104.53</td>\n",
       "      <td>2844251</td>\n",
       "      <td>13134</td>\n",
       "      <td>104.644388</td>\n",
       "      <td>-0.002005</td>\n",
       "    </tr>\n",
       "    <tr>\n",
       "      <th>2018-10-18 04:00:00+00:00</th>\n",
       "      <td>279.41</td>\n",
       "      <td>280.07</td>\n",
       "      <td>274.97</td>\n",
       "      <td>276.40</td>\n",
       "      <td>135603525</td>\n",
       "      <td>747568</td>\n",
       "      <td>277.110785</td>\n",
       "      <td>-0.014441</td>\n",
       "      <td>104.39</td>\n",
       "      <td>104.6195</td>\n",
       "      <td>104.3750</td>\n",
       "      <td>104.46</td>\n",
       "      <td>3158160</td>\n",
       "      <td>13494</td>\n",
       "      <td>104.500896</td>\n",
       "      <td>-0.000670</td>\n",
       "    </tr>\n",
       "    <tr>\n",
       "      <th>2018-10-19 04:00:00+00:00</th>\n",
       "      <td>277.16</td>\n",
       "      <td>279.30</td>\n",
       "      <td>275.47</td>\n",
       "      <td>276.25</td>\n",
       "      <td>139970953</td>\n",
       "      <td>583435</td>\n",
       "      <td>277.067808</td>\n",
       "      <td>-0.000543</td>\n",
       "      <td>104.47</td>\n",
       "      <td>104.5500</td>\n",
       "      <td>104.3400</td>\n",
       "      <td>104.37</td>\n",
       "      <td>2985836</td>\n",
       "      <td>13174</td>\n",
       "      <td>104.391717</td>\n",
       "      <td>-0.000862</td>\n",
       "    </tr>\n",
       "  </tbody>\n",
       "</table>\n",
       "</div>"
      ],
      "text/plain": [
       "                              SPY                                     \\\n",
       "                             open    high     low   close     volume   \n",
       "timestamp                                                              \n",
       "2018-10-15 04:00:00+00:00  275.54  277.04  274.30  274.40  104132367   \n",
       "2018-10-16 04:00:00+00:00  276.56  280.82  276.07  280.40  119803983   \n",
       "2018-10-17 04:00:00+00:00  280.44  281.15  277.56  280.45  110755987   \n",
       "2018-10-18 04:00:00+00:00  279.41  280.07  274.97  276.40  135603525   \n",
       "2018-10-19 04:00:00+00:00  277.16  279.30  275.47  276.25  139970953   \n",
       "\n",
       "                                                                   AGG  \\\n",
       "                          trade_count        vwap daily_return    open   \n",
       "timestamp                                                                \n",
       "2018-10-15 04:00:00+00:00      543707  275.519667          NaN  104.73   \n",
       "2018-10-16 04:00:00+00:00      476753  278.542974     0.021866  104.69   \n",
       "2018-10-17 04:00:00+00:00      566702  279.891067     0.000178  104.71   \n",
       "2018-10-18 04:00:00+00:00      747568  277.110785    -0.014441  104.39   \n",
       "2018-10-19 04:00:00+00:00      583435  277.067808    -0.000543  104.47   \n",
       "\n",
       "                                                                            \\\n",
       "                               high       low   close   volume trade_count   \n",
       "timestamp                                                                    \n",
       "2018-10-15 04:00:00+00:00  104.7835  104.6233  104.68  3047999       11516   \n",
       "2018-10-16 04:00:00+00:00  104.7400  104.5800  104.74  5750238       17022   \n",
       "2018-10-17 04:00:00+00:00  104.7700  104.5200  104.53  2844251       13134   \n",
       "2018-10-18 04:00:00+00:00  104.6195  104.3750  104.46  3158160       13494   \n",
       "2018-10-19 04:00:00+00:00  104.5500  104.3400  104.37  2985836       13174   \n",
       "\n",
       "                                                    \n",
       "                                 vwap daily_return  \n",
       "timestamp                                           \n",
       "2018-10-15 04:00:00+00:00  104.680553          NaN  \n",
       "2018-10-16 04:00:00+00:00  104.666607     0.000573  \n",
       "2018-10-17 04:00:00+00:00  104.644388    -0.002005  \n",
       "2018-10-18 04:00:00+00:00  104.500896    -0.000670  \n",
       "2018-10-19 04:00:00+00:00  104.391717    -0.000862  "
      ]
     },
     "execution_count": 109,
     "metadata": {},
     "output_type": "execute_result"
    }
   ],
   "source": [
    "# Configure a Monte Carlo simulation to forecast 10 years cumulative returns\n",
    "# The weights should be split 20% to AGG and 80% to SPY.\n",
    "# Run 500 samples.\n",
    "MC_simulation_b = MCSimulation(\n",
    "    portfolio_data = monte_df,\n",
    "    weights = [.20,.80],\n",
    "    num_simulation = 500,\n",
    "    num_trading_days = 252*10\n",
    ")\n",
    "\n",
    "\n",
    "# Review the simulation input data\n",
    "MC_simulation_b.portfolio_data.head()\n",
    "\n"
   ]
  },
  {
   "cell_type": "code",
   "execution_count": 110,
   "metadata": {},
   "outputs": [
    {
     "name": "stdout",
     "output_type": "stream",
     "text": [
      "Running Monte Carlo simulation number 0.\n",
      "Running Monte Carlo simulation number 10.\n",
      "Running Monte Carlo simulation number 20.\n",
      "Running Monte Carlo simulation number 30.\n",
      "Running Monte Carlo simulation number 40.\n",
      "Running Monte Carlo simulation number 50.\n",
      "Running Monte Carlo simulation number 60.\n",
      "Running Monte Carlo simulation number 70.\n",
      "Running Monte Carlo simulation number 80.\n",
      "Running Monte Carlo simulation number 90.\n",
      "Running Monte Carlo simulation number 100.\n"
     ]
    },
    {
     "name": "stderr",
     "output_type": "stream",
     "text": [
      "C:\\Users\\elope\\OneDrive\\Documents\\Fintech Bootcamp\\Challenges\\Challenge 5\\Starter_Code\\MCForecastTools.py:117: PerformanceWarning: DataFrame is highly fragmented.  This is usually the result of calling `frame.insert` many times, which has poor performance.  Consider joining all columns at once using pd.concat(axis=1) instead.  To get a de-fragmented frame, use `newframe = frame.copy()`\n",
      "  portfolio_cumulative_returns[n] = (1 + sim_df.fillna(0)).cumprod()\n"
     ]
    },
    {
     "name": "stdout",
     "output_type": "stream",
     "text": [
      "Running Monte Carlo simulation number 110.\n",
      "Running Monte Carlo simulation number 120.\n",
      "Running Monte Carlo simulation number 130.\n",
      "Running Monte Carlo simulation number 140.\n",
      "Running Monte Carlo simulation number 150.\n",
      "Running Monte Carlo simulation number 160.\n",
      "Running Monte Carlo simulation number 170.\n",
      "Running Monte Carlo simulation number 180.\n",
      "Running Monte Carlo simulation number 190.\n",
      "Running Monte Carlo simulation number 200.\n",
      "Running Monte Carlo simulation number 210.\n",
      "Running Monte Carlo simulation number 220.\n",
      "Running Monte Carlo simulation number 230.\n",
      "Running Monte Carlo simulation number 240.\n",
      "Running Monte Carlo simulation number 250.\n",
      "Running Monte Carlo simulation number 260.\n",
      "Running Monte Carlo simulation number 270.\n",
      "Running Monte Carlo simulation number 280.\n",
      "Running Monte Carlo simulation number 290.\n",
      "Running Monte Carlo simulation number 300.\n",
      "Running Monte Carlo simulation number 310.\n",
      "Running Monte Carlo simulation number 320.\n",
      "Running Monte Carlo simulation number 330.\n",
      "Running Monte Carlo simulation number 340.\n",
      "Running Monte Carlo simulation number 350.\n",
      "Running Monte Carlo simulation number 360.\n",
      "Running Monte Carlo simulation number 370.\n",
      "Running Monte Carlo simulation number 380.\n",
      "Running Monte Carlo simulation number 390.\n",
      "Running Monte Carlo simulation number 400.\n",
      "Running Monte Carlo simulation number 410.\n",
      "Running Monte Carlo simulation number 420.\n",
      "Running Monte Carlo simulation number 430.\n",
      "Running Monte Carlo simulation number 440.\n",
      "Running Monte Carlo simulation number 450.\n",
      "Running Monte Carlo simulation number 460.\n",
      "Running Monte Carlo simulation number 470.\n",
      "Running Monte Carlo simulation number 480.\n",
      "Running Monte Carlo simulation number 490.\n"
     ]
    },
    {
     "data": {
      "text/html": [
       "<div>\n",
       "<style scoped>\n",
       "    .dataframe tbody tr th:only-of-type {\n",
       "        vertical-align: middle;\n",
       "    }\n",
       "\n",
       "    .dataframe tbody tr th {\n",
       "        vertical-align: top;\n",
       "    }\n",
       "\n",
       "    .dataframe thead th {\n",
       "        text-align: right;\n",
       "    }\n",
       "</style>\n",
       "<table border=\"1\" class=\"dataframe\">\n",
       "  <thead>\n",
       "    <tr style=\"text-align: right;\">\n",
       "      <th></th>\n",
       "      <th>0</th>\n",
       "      <th>1</th>\n",
       "      <th>2</th>\n",
       "      <th>3</th>\n",
       "      <th>4</th>\n",
       "      <th>5</th>\n",
       "      <th>6</th>\n",
       "      <th>7</th>\n",
       "      <th>8</th>\n",
       "      <th>9</th>\n",
       "      <th>...</th>\n",
       "      <th>490</th>\n",
       "      <th>491</th>\n",
       "      <th>492</th>\n",
       "      <th>493</th>\n",
       "      <th>494</th>\n",
       "      <th>495</th>\n",
       "      <th>496</th>\n",
       "      <th>497</th>\n",
       "      <th>498</th>\n",
       "      <th>499</th>\n",
       "    </tr>\n",
       "  </thead>\n",
       "  <tbody>\n",
       "    <tr>\n",
       "      <th>0</th>\n",
       "      <td>1.000000</td>\n",
       "      <td>1.000000</td>\n",
       "      <td>1.000000</td>\n",
       "      <td>1.000000</td>\n",
       "      <td>1.000000</td>\n",
       "      <td>1.000000</td>\n",
       "      <td>1.000000</td>\n",
       "      <td>1.000000</td>\n",
       "      <td>1.000000</td>\n",
       "      <td>1.000000</td>\n",
       "      <td>...</td>\n",
       "      <td>1.000000</td>\n",
       "      <td>1.000000</td>\n",
       "      <td>1.000000</td>\n",
       "      <td>1.000000</td>\n",
       "      <td>1.000000</td>\n",
       "      <td>1.000000</td>\n",
       "      <td>1.000000</td>\n",
       "      <td>1.000000</td>\n",
       "      <td>1.000000</td>\n",
       "      <td>1.000000</td>\n",
       "    </tr>\n",
       "    <tr>\n",
       "      <th>1</th>\n",
       "      <td>1.008717</td>\n",
       "      <td>1.001444</td>\n",
       "      <td>1.001638</td>\n",
       "      <td>0.999370</td>\n",
       "      <td>1.003504</td>\n",
       "      <td>0.999746</td>\n",
       "      <td>1.001052</td>\n",
       "      <td>1.003594</td>\n",
       "      <td>0.998802</td>\n",
       "      <td>1.001877</td>\n",
       "      <td>...</td>\n",
       "      <td>0.994709</td>\n",
       "      <td>1.001879</td>\n",
       "      <td>0.995804</td>\n",
       "      <td>1.005124</td>\n",
       "      <td>0.999899</td>\n",
       "      <td>1.002496</td>\n",
       "      <td>0.992751</td>\n",
       "      <td>0.997832</td>\n",
       "      <td>1.001261</td>\n",
       "      <td>1.002012</td>\n",
       "    </tr>\n",
       "    <tr>\n",
       "      <th>2</th>\n",
       "      <td>1.003677</td>\n",
       "      <td>1.002213</td>\n",
       "      <td>1.004178</td>\n",
       "      <td>0.993588</td>\n",
       "      <td>0.999856</td>\n",
       "      <td>0.999181</td>\n",
       "      <td>0.998503</td>\n",
       "      <td>1.002892</td>\n",
       "      <td>0.998293</td>\n",
       "      <td>1.001838</td>\n",
       "      <td>...</td>\n",
       "      <td>0.997347</td>\n",
       "      <td>0.998855</td>\n",
       "      <td>0.994157</td>\n",
       "      <td>1.006473</td>\n",
       "      <td>1.003167</td>\n",
       "      <td>0.997081</td>\n",
       "      <td>0.996716</td>\n",
       "      <td>0.996171</td>\n",
       "      <td>1.000378</td>\n",
       "      <td>1.004193</td>\n",
       "    </tr>\n",
       "    <tr>\n",
       "      <th>3</th>\n",
       "      <td>1.006644</td>\n",
       "      <td>0.996176</td>\n",
       "      <td>0.994689</td>\n",
       "      <td>0.995746</td>\n",
       "      <td>0.999331</td>\n",
       "      <td>0.994035</td>\n",
       "      <td>0.989332</td>\n",
       "      <td>0.997398</td>\n",
       "      <td>0.993153</td>\n",
       "      <td>1.004659</td>\n",
       "      <td>...</td>\n",
       "      <td>0.998272</td>\n",
       "      <td>0.996166</td>\n",
       "      <td>0.991659</td>\n",
       "      <td>1.015065</td>\n",
       "      <td>1.004885</td>\n",
       "      <td>0.988420</td>\n",
       "      <td>1.003802</td>\n",
       "      <td>0.998144</td>\n",
       "      <td>1.001675</td>\n",
       "      <td>1.009430</td>\n",
       "    </tr>\n",
       "    <tr>\n",
       "      <th>4</th>\n",
       "      <td>1.013558</td>\n",
       "      <td>0.992231</td>\n",
       "      <td>0.999295</td>\n",
       "      <td>0.997861</td>\n",
       "      <td>0.995201</td>\n",
       "      <td>0.990687</td>\n",
       "      <td>0.990596</td>\n",
       "      <td>0.997532</td>\n",
       "      <td>0.994163</td>\n",
       "      <td>1.003215</td>\n",
       "      <td>...</td>\n",
       "      <td>1.001966</td>\n",
       "      <td>0.987157</td>\n",
       "      <td>0.990999</td>\n",
       "      <td>1.014286</td>\n",
       "      <td>1.009352</td>\n",
       "      <td>0.994750</td>\n",
       "      <td>0.998951</td>\n",
       "      <td>1.004821</td>\n",
       "      <td>1.002497</td>\n",
       "      <td>1.016763</td>\n",
       "    </tr>\n",
       "    <tr>\n",
       "      <th>...</th>\n",
       "      <td>...</td>\n",
       "      <td>...</td>\n",
       "      <td>...</td>\n",
       "      <td>...</td>\n",
       "      <td>...</td>\n",
       "      <td>...</td>\n",
       "      <td>...</td>\n",
       "      <td>...</td>\n",
       "      <td>...</td>\n",
       "      <td>...</td>\n",
       "      <td>...</td>\n",
       "      <td>...</td>\n",
       "      <td>...</td>\n",
       "      <td>...</td>\n",
       "      <td>...</td>\n",
       "      <td>...</td>\n",
       "      <td>...</td>\n",
       "      <td>...</td>\n",
       "      <td>...</td>\n",
       "      <td>...</td>\n",
       "      <td>...</td>\n",
       "    </tr>\n",
       "    <tr>\n",
       "      <th>2516</th>\n",
       "      <td>1.088553</td>\n",
       "      <td>0.524070</td>\n",
       "      <td>1.091206</td>\n",
       "      <td>1.652213</td>\n",
       "      <td>0.725348</td>\n",
       "      <td>1.161375</td>\n",
       "      <td>0.829812</td>\n",
       "      <td>1.069181</td>\n",
       "      <td>1.020685</td>\n",
       "      <td>1.577780</td>\n",
       "      <td>...</td>\n",
       "      <td>0.890456</td>\n",
       "      <td>1.407158</td>\n",
       "      <td>1.262423</td>\n",
       "      <td>1.388288</td>\n",
       "      <td>1.000957</td>\n",
       "      <td>1.191528</td>\n",
       "      <td>0.817806</td>\n",
       "      <td>0.692542</td>\n",
       "      <td>0.932584</td>\n",
       "      <td>0.807020</td>\n",
       "    </tr>\n",
       "    <tr>\n",
       "      <th>2517</th>\n",
       "      <td>1.090847</td>\n",
       "      <td>0.524689</td>\n",
       "      <td>1.092164</td>\n",
       "      <td>1.654012</td>\n",
       "      <td>0.729038</td>\n",
       "      <td>1.164200</td>\n",
       "      <td>0.831648</td>\n",
       "      <td>1.069089</td>\n",
       "      <td>1.027923</td>\n",
       "      <td>1.573714</td>\n",
       "      <td>...</td>\n",
       "      <td>0.888114</td>\n",
       "      <td>1.402347</td>\n",
       "      <td>1.261871</td>\n",
       "      <td>1.394020</td>\n",
       "      <td>0.999269</td>\n",
       "      <td>1.188176</td>\n",
       "      <td>0.816656</td>\n",
       "      <td>0.693135</td>\n",
       "      <td>0.926754</td>\n",
       "      <td>0.813775</td>\n",
       "    </tr>\n",
       "    <tr>\n",
       "      <th>2518</th>\n",
       "      <td>1.089451</td>\n",
       "      <td>0.521655</td>\n",
       "      <td>1.090297</td>\n",
       "      <td>1.664696</td>\n",
       "      <td>0.728110</td>\n",
       "      <td>1.168512</td>\n",
       "      <td>0.824179</td>\n",
       "      <td>1.066443</td>\n",
       "      <td>1.023916</td>\n",
       "      <td>1.562568</td>\n",
       "      <td>...</td>\n",
       "      <td>0.884280</td>\n",
       "      <td>1.398901</td>\n",
       "      <td>1.267184</td>\n",
       "      <td>1.387136</td>\n",
       "      <td>1.004968</td>\n",
       "      <td>1.182192</td>\n",
       "      <td>0.816180</td>\n",
       "      <td>0.694940</td>\n",
       "      <td>0.924216</td>\n",
       "      <td>0.813717</td>\n",
       "    </tr>\n",
       "    <tr>\n",
       "      <th>2519</th>\n",
       "      <td>1.089504</td>\n",
       "      <td>0.517409</td>\n",
       "      <td>1.086070</td>\n",
       "      <td>1.655623</td>\n",
       "      <td>0.732733</td>\n",
       "      <td>1.171582</td>\n",
       "      <td>0.823177</td>\n",
       "      <td>1.072246</td>\n",
       "      <td>1.017586</td>\n",
       "      <td>1.555556</td>\n",
       "      <td>...</td>\n",
       "      <td>0.883951</td>\n",
       "      <td>1.391635</td>\n",
       "      <td>1.268725</td>\n",
       "      <td>1.392649</td>\n",
       "      <td>0.999947</td>\n",
       "      <td>1.179623</td>\n",
       "      <td>0.814728</td>\n",
       "      <td>0.690932</td>\n",
       "      <td>0.920803</td>\n",
       "      <td>0.818783</td>\n",
       "    </tr>\n",
       "    <tr>\n",
       "      <th>2520</th>\n",
       "      <td>1.095953</td>\n",
       "      <td>0.516778</td>\n",
       "      <td>1.084849</td>\n",
       "      <td>1.649166</td>\n",
       "      <td>0.731582</td>\n",
       "      <td>1.178911</td>\n",
       "      <td>0.826661</td>\n",
       "      <td>1.082628</td>\n",
       "      <td>1.019929</td>\n",
       "      <td>1.549642</td>\n",
       "      <td>...</td>\n",
       "      <td>0.884758</td>\n",
       "      <td>1.398679</td>\n",
       "      <td>1.264348</td>\n",
       "      <td>1.396576</td>\n",
       "      <td>1.003250</td>\n",
       "      <td>1.186045</td>\n",
       "      <td>0.813779</td>\n",
       "      <td>0.692642</td>\n",
       "      <td>0.916683</td>\n",
       "      <td>0.819421</td>\n",
       "    </tr>\n",
       "  </tbody>\n",
       "</table>\n",
       "<p>2521 rows × 500 columns</p>\n",
       "</div>"
      ],
      "text/plain": [
       "           0         1         2         3         4         5         6    \\\n",
       "0     1.000000  1.000000  1.000000  1.000000  1.000000  1.000000  1.000000   \n",
       "1     1.008717  1.001444  1.001638  0.999370  1.003504  0.999746  1.001052   \n",
       "2     1.003677  1.002213  1.004178  0.993588  0.999856  0.999181  0.998503   \n",
       "3     1.006644  0.996176  0.994689  0.995746  0.999331  0.994035  0.989332   \n",
       "4     1.013558  0.992231  0.999295  0.997861  0.995201  0.990687  0.990596   \n",
       "...        ...       ...       ...       ...       ...       ...       ...   \n",
       "2516  1.088553  0.524070  1.091206  1.652213  0.725348  1.161375  0.829812   \n",
       "2517  1.090847  0.524689  1.092164  1.654012  0.729038  1.164200  0.831648   \n",
       "2518  1.089451  0.521655  1.090297  1.664696  0.728110  1.168512  0.824179   \n",
       "2519  1.089504  0.517409  1.086070  1.655623  0.732733  1.171582  0.823177   \n",
       "2520  1.095953  0.516778  1.084849  1.649166  0.731582  1.178911  0.826661   \n",
       "\n",
       "           7         8         9    ...       490       491       492  \\\n",
       "0     1.000000  1.000000  1.000000  ...  1.000000  1.000000  1.000000   \n",
       "1     1.003594  0.998802  1.001877  ...  0.994709  1.001879  0.995804   \n",
       "2     1.002892  0.998293  1.001838  ...  0.997347  0.998855  0.994157   \n",
       "3     0.997398  0.993153  1.004659  ...  0.998272  0.996166  0.991659   \n",
       "4     0.997532  0.994163  1.003215  ...  1.001966  0.987157  0.990999   \n",
       "...        ...       ...       ...  ...       ...       ...       ...   \n",
       "2516  1.069181  1.020685  1.577780  ...  0.890456  1.407158  1.262423   \n",
       "2517  1.069089  1.027923  1.573714  ...  0.888114  1.402347  1.261871   \n",
       "2518  1.066443  1.023916  1.562568  ...  0.884280  1.398901  1.267184   \n",
       "2519  1.072246  1.017586  1.555556  ...  0.883951  1.391635  1.268725   \n",
       "2520  1.082628  1.019929  1.549642  ...  0.884758  1.398679  1.264348   \n",
       "\n",
       "           493       494       495       496       497       498       499  \n",
       "0     1.000000  1.000000  1.000000  1.000000  1.000000  1.000000  1.000000  \n",
       "1     1.005124  0.999899  1.002496  0.992751  0.997832  1.001261  1.002012  \n",
       "2     1.006473  1.003167  0.997081  0.996716  0.996171  1.000378  1.004193  \n",
       "3     1.015065  1.004885  0.988420  1.003802  0.998144  1.001675  1.009430  \n",
       "4     1.014286  1.009352  0.994750  0.998951  1.004821  1.002497  1.016763  \n",
       "...        ...       ...       ...       ...       ...       ...       ...  \n",
       "2516  1.388288  1.000957  1.191528  0.817806  0.692542  0.932584  0.807020  \n",
       "2517  1.394020  0.999269  1.188176  0.816656  0.693135  0.926754  0.813775  \n",
       "2518  1.387136  1.004968  1.182192  0.816180  0.694940  0.924216  0.813717  \n",
       "2519  1.392649  0.999947  1.179623  0.814728  0.690932  0.920803  0.818783  \n",
       "2520  1.396576  1.003250  1.186045  0.813779  0.692642  0.916683  0.819421  \n",
       "\n",
       "[2521 rows x 500 columns]"
      ]
     },
     "execution_count": 110,
     "metadata": {},
     "output_type": "execute_result"
    }
   ],
   "source": [
    "# Run the Monte Carlo simulation to forecast 10 years cumulative returns\n",
    "MC_simulation_b.calc_cumulative_return()\n"
   ]
  },
  {
   "cell_type": "code",
   "execution_count": 112,
   "metadata": {},
   "outputs": [
    {
     "data": {
      "image/png": "[encoded data removed]",
      "text/plain": [
       "<Figure size 640x480 with 1 Axes>"
      ]
     },
     "metadata": {},
     "output_type": "display_data"
    }
   ],
   "source": [
    "# Visualize the 10-year Monte Carlo simulation by creating an\n",
    "# overlay line plot\n",
    "MC_b_plot = MC_simulation_b.plot_simulation()\n"
   ]
  },
  {
   "cell_type": "code",
   "execution_count": 113,
   "metadata": {},
   "outputs": [
    {
     "data": {
      "image/png": "[encoded data removed]",
      "text/plain": [
       "<Figure size 640x480 with 1 Axes>"
      ]
     },
     "metadata": {},
     "output_type": "display_data"
    }
   ],
   "source": [
    "# Visualize the probability distribution of the 10-year Monte Carlo simulation \n",
    "# by plotting a histogram\n",
    "MC_b_hist = MC_simulation_b.plot_distribution()\n"
   ]
  },
  {
   "cell_type": "code",
   "execution_count": 114,
   "metadata": {},
   "outputs": [
    {
     "data": {
      "text/plain": [
       "count           500.000000\n",
       "mean              1.002932\n",
       "std               0.218691\n",
       "min               0.516778\n",
       "25%               0.842786\n",
       "50%               0.979839\n",
       "75%               1.138119\n",
       "max               2.098499\n",
       "95% CI Lower      0.678186\n",
       "95% CI Upper      1.464142\n",
       "Name: 2520, dtype: float64"
      ]
     },
     "metadata": {},
     "output_type": "display_data"
    }
   ],
   "source": [
    "# Generate summary statistics from the 10-year Monte Carlo simulation results\n",
    "# Save the results as a variable\n",
    "MC_b_table = MC_simulation_b.summarize_cumulative_return()\n",
    "\n",
    "\n",
    "# Review the 10-year Monte Carlo summary statistics\n",
    "display(MC_b_table)"
   ]
  },
  {
   "cell_type": "markdown",
   "metadata": {},
   "source": [
    "### Answer the following questions:"
   ]
  },
  {
   "cell_type": "markdown",
   "metadata": {},
   "source": [
    "#### Question: Using the current value of only the stock and bond portion of the member's portfolio and the summary statistics that you generated from the new Monte Carlo simulation, what are the lower and upper bounds for the expected value of the portfolio (with the new weights) with a 95% confidence interval?"
   ]
  },
  {
   "cell_type": "code",
   "execution_count": 115,
   "metadata": {},
   "outputs": [
    {
     "name": "stdout",
     "output_type": "stream",
     "text": [
      "The current balance of the stock and bond portfolio is 58271.3.\n"
     ]
    }
   ],
   "source": [
    "# Print the current balance of the stock and bond portion of the members portfolio\n",
    "print(f'The current balance of the stock and bond portfolio is {total_stocks_bonds}.')\n"
   ]
  },
  {
   "cell_type": "code",
   "execution_count": 116,
   "metadata": {},
   "outputs": [
    {
     "name": "stdout",
     "output_type": "stream",
     "text": [
      "There is a 95% chance that an initial investment of $58271.3 in the portfolio with an 80/20 weight portfolio over the next 10 years will end within in the range of $39518.77 and $85317.48.\n"
     ]
    }
   ],
   "source": [
    "# Use the lower and upper `95%` confidence intervals to calculate the range of the possible outcomes for the current stock/bond portfolio\n",
    "ci_lower_ten_cumulative_return = round(MC_b_table[8]*total_stocks_bonds,2)\n",
    "ci_upper_ten_cumulative_return = round(MC_b_table[9]*total_stocks_bonds,2)\n",
    "\n",
    "# Print the result of your calculations\n",
    "print(f\"There is a 95% chance that an initial investment of ${total_stocks_bonds} in the portfolio\"\n",
    "      f\" with an 80/20 weight portfolio over the next 10 years will end within in the range of\"\n",
    "      f\" ${ci_lower_ten_cumulative_return} and ${ci_upper_ten_cumulative_return}.\")\n"
   ]
  },
  {
   "cell_type": "markdown",
   "metadata": {},
   "source": [
    "#### Question: Will weighting the portfolio more heavily to stocks allow the credit union members to retire after only 10 years?"
   ]
  },
  {
   "cell_type": "raw",
   "metadata": {},
   "source": [
    "**Answer** # no"
   ]
  },
  {
   "cell_type": "code",
   "execution_count": null,
   "metadata": {},
   "outputs": [],
   "source": []
  }
 ],
 "metadata": {
  "kernelspec": {
   "display_name": "Python 3 (ipykernel)",
   "language": "python",
   "name": "python3"
  },
  "language_info": {
   "codemirror_mode": {
    "name": "ipython",
    "version": 3
   },
   "file_extension": ".py",
   "mimetype": "text/x-python",
   "name": "python",
   "nbconvert_exporter": "python",
   "pygments_lexer": "ipython3",
   "version": "3.7.13"
  }
 },
 "nbformat": 4,
 "nbformat_minor": 4
}
